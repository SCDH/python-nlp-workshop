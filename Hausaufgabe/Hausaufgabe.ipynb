{
 "cells": [
  {
   "cell_type": "markdown",
   "source": [
    "Aufgabe 1\n",
    "\n",
    "Schreiben Sie eine Funktion, die einen Integer-Wert als Argument erhält.\n",
    "Die Funktion soll testen, ob der erhaltene Wert gerade oder ungerade ist.\n",
    "Der Rückgabewert soll vom Datentyp String sein und entweder \"Gerade\" oder \"Ungerade\" lauten.\n",
    "\n",
    "Benötigte Elemente aus dem Kurs:\n",
    "- Operatoren\n",
    "- Funktionen\n",
    "- if-Bedingungen"
   ],
   "metadata": {
    "collapsed": false
   }
  },
  {
   "cell_type": "markdown",
   "source": [
    "Aufgabe 1 (Abwandlung)\n",
    "\n",
    "Der Rückgabewert soll diesmal vom Typ Boolean sein statt vom Typ String"
   ],
   "metadata": {
    "collapsed": false
   }
  },
  {
   "cell_type": "code",
   "execution_count": 2,
   "outputs": [
    {
     "data": {
      "text/plain": "'Ungerade'"
     },
     "execution_count": 2,
     "metadata": {},
     "output_type": "execute_result"
    }
   ],
   "source": [
    "# Lösung zu Aufgabe 1\n",
    "\n",
    "def ungerade(wert):\n",
    "    if wert % 2 == 0:\n",
    "        return \"Gerade\"\n",
    "    else: return \"Ungerade\"\n",
    "\n",
    "ungerade(6)"
   ],
   "metadata": {
    "collapsed": false,
    "ExecuteTime": {
     "end_time": "2023-06-05T15:58:24.453520289Z",
     "start_time": "2023-06-05T15:58:24.424743906Z"
    }
   }
  },
  {
   "cell_type": "code",
   "execution_count": 3,
   "outputs": [
    {
     "data": {
      "text/plain": "True"
     },
     "execution_count": 3,
     "metadata": {},
     "output_type": "execute_result"
    }
   ],
   "source": [
    "# Lösung zu Aufgabe 1 (Abwandlung)\n",
    "\n",
    "def ungerade(wert):\n",
    "    if wert % 2 == 0:\n",
    "        return True\n",
    "    else: return False\n",
    "\n",
    "ungerade(6)"
   ],
   "metadata": {
    "collapsed": false,
    "ExecuteTime": {
     "end_time": "2023-06-05T16:00:32.689320875Z",
     "start_time": "2023-06-05T16:00:32.682191426Z"
    }
   }
  },
  {
   "cell_type": "markdown",
   "source": [
    "Aufgabe 2\n",
    "\n",
    "Was ist der Unterschied zwischen den untenstehenden Ausdrücken?\n",
    "meine_variable = 0\n",
    "meine_variable == 0"
   ],
   "metadata": {
    "collapsed": false
   }
  },
  {
   "cell_type": "markdown",
   "source": [
    "Lösung zu Aufgabe 2\n",
    "Bei Ausdruck 1 wird der Variable der Wert 0 zugewiesen.\n",
    "Bei Ausdruck 2 prüfen wir, ob der Wert unserer Variable 0 ist."
   ],
   "metadata": {
    "collapsed": false
   }
  },
  {
   "cell_type": "markdown",
   "source": [
    "Aufgabe 3\n",
    "Schreiben Sie ein Programm, dass den ersten und letzten Buchstaben eines gegebenen Strings entfernt und den so veränderten Text zurückgibt.\n",
    "\n",
    "Benötigte Themen aus dem Kurs\n",
    "- Strings\n",
    "- Indexierung\n",
    "- Slicing\n"
   ],
   "metadata": {
    "collapsed": false
   }
  },
  {
   "cell_type": "code",
   "execution_count": 6,
   "outputs": [
    {
     "data": {
      "text/plain": "'ello Worl'"
     },
     "execution_count": 6,
     "metadata": {},
     "output_type": "execute_result"
    }
   ],
   "source": [
    "# Lösung Aufgabe 3\n",
    "\n",
    "def string_kuerzen(mein_string):\n",
    "    neuer_string = mein_string[1:len(mein_string)-1]\n",
    "    return neuer_string\n",
    "\n",
    "string_kuerzen(\"Hello World\")"
   ],
   "metadata": {
    "collapsed": false,
    "ExecuteTime": {
     "end_time": "2023-06-05T16:17:28.144934337Z",
     "start_time": "2023-06-05T16:17:28.097133544Z"
    }
   }
  },
  {
   "cell_type": "markdown",
   "source": [
    "Aufgabe 4\n",
    "Führen Sie die untenstehenden Code-Blöcke aus.\n"
   ],
   "metadata": {
    "collapsed": false
   }
  },
  {
   "cell_type": "code",
   "execution_count": 15,
   "outputs": [
    {
     "name": "stdout",
     "output_type": "stream",
     "text": [
      "e\n"
     ]
    }
   ],
   "source": [
    "mein_string = \"Hello World\"\n",
    "print(mein_string[0])"
   ],
   "metadata": {
    "collapsed": false,
    "ExecuteTime": {
     "end_time": "2023-06-05T16:55:33.776680372Z",
     "start_time": "2023-06-05T16:55:33.731678550Z"
    }
   }
  },
  {
   "cell_type": "code",
   "execution_count": 16,
   "outputs": [
    {
     "ename": "TypeError",
     "evalue": "'str' object does not support item assignment",
     "output_type": "error",
     "traceback": [
      "\u001B[0;31m---------------------------------------------------------------------------\u001B[0m",
      "\u001B[0;31mTypeError\u001B[0m                                 Traceback (most recent call last)",
      "Cell \u001B[0;32mIn[16], line 2\u001B[0m\n\u001B[1;32m      1\u001B[0m mein_string \u001B[38;5;241m=\u001B[39m \u001B[38;5;124m\"\u001B[39m\u001B[38;5;124mHello World\u001B[39m\u001B[38;5;124m\"\u001B[39m\n\u001B[0;32m----> 2\u001B[0m \u001B[43mmein_string\u001B[49m\u001B[43m[\u001B[49m\u001B[38;5;241;43m0\u001B[39;49m\u001B[43m]\u001B[49m \u001B[38;5;241m=\u001B[39m \u001B[38;5;124m\"\u001B[39m\u001B[38;5;124mh\u001B[39m\u001B[38;5;124m\"\u001B[39m\n",
      "\u001B[0;31mTypeError\u001B[0m: 'str' object does not support item assignment"
     ]
    }
   ],
   "source": [
    "mein_string = \"Hello World\"\n",
    "mein_string[0] = \"h\""
   ],
   "metadata": {
    "collapsed": false,
    "ExecuteTime": {
     "end_time": "2023-06-05T17:00:45.304531963Z",
     "start_time": "2023-06-05T17:00:45.261795607Z"
    }
   }
  },
  {
   "cell_type": "code",
   "execution_count": null,
   "outputs": [],
   "source": [
    "mein_int = 5\n",
    "neuer_int = 5 + 5\n",
    "print(neuer_int)"
   ],
   "metadata": {
    "collapsed": false
   }
  },
  {
   "cell_type": "code",
   "execution_count": 10,
   "outputs": [
    {
     "name": "stdout",
     "output_type": "stream",
     "text": [
      "10\n"
     ]
    }
   ],
   "source": [
    "mein_int = 5\n",
    "mein_int = 5+5\n",
    "print(mein_int)"
   ],
   "metadata": {
    "collapsed": false,
    "ExecuteTime": {
     "end_time": "2023-06-05T16:50:46.456380435Z",
     "start_time": "2023-06-05T16:50:46.415588263Z"
    }
   }
  },
  {
   "cell_type": "markdown",
   "source": [
    "Warum führt *nur* Block 2 zu einer Fehlermeldung?"
   ],
   "metadata": {
    "collapsed": false
   }
  },
  {
   "cell_type": "markdown",
   "source": [
    "Lösung Aufgabe 4\n",
    "Bei den Variablen in Block 1 und 2 handelt es sich um Strings.\n",
    "Der Datentyp String ist unveränderlich.\n",
    "Bei den Variablen in Block 3 und 4 handelt es sich um Integer.\n",
    "Der Datentyp integer ist veränderlich.\n",
    "\n",
    "Zur Vertiefung:\n",
    "https://codehs.com/textbook/intropython_textbook/5.3"
   ],
   "metadata": {
    "collapsed": false
   }
  },
  {
   "cell_type": "markdown",
   "source": [
    "Aufgabe 5a\n",
    "Schreiben Sie eine Funktion, die zu den Werten in einer Liste jeweils den quadrierten Wert berechnet und diese Werte dann addiert.\n",
    "Beispiel:\n",
    "liste = [1, 2, 3]\n",
    "1² + 2² + 3² = 14\n",
    "\n",
    "Hinweis: die Werte einer Liste können mit der Funktion sum() addiert werden. Dafür ist keine Schleife notwendig.\n",
    "\n",
    "Benötigte Themen aus dem Kurs:\n",
    "- Listen\n",
    "- Operatoren\n",
    "- For-Schleifen"
   ],
   "metadata": {
    "collapsed": false
   }
  },
  {
   "cell_type": "code",
   "execution_count": 18,
   "outputs": [
    {
     "data": {
      "text/plain": "14"
     },
     "execution_count": 18,
     "metadata": {},
     "output_type": "execute_result"
    }
   ],
   "source": [
    "# Lösung Aufgabe 5a\n",
    "\n",
    "liste = [1, 2, 3]\n",
    "def square(meine_liste):\n",
    "    liste_neu = []\n",
    "    for i in liste:\n",
    "        i = i * i\n",
    "        liste_neu.append(i)\n",
    "    ergebnis = sum(liste_neu)\n",
    "    return ergebnis\n",
    "\n",
    "square(liste)\n",
    "\n"
   ],
   "metadata": {
    "collapsed": false,
    "ExecuteTime": {
     "end_time": "2023-06-06T12:26:03.078828873Z",
     "start_time": "2023-06-06T12:26:03.039719931Z"
    }
   }
  },
  {
   "cell_type": "markdown",
   "source": [
    "Aufgabe 5b\n",
    "Ergänzen Sie Ihren Code aus Aufgabe 5a, um einen Kontrollmechanismus, der prüft, ob es sich bei den Elementen der Liste um integer handelt.\n",
    "Stellen Sie sicher, dass die Square-Funktion nur ausgeführt wird, wenn der Eingabewert ein integer ist.\n",
    "\n",
    "Beispiel für eine Liste mit verschiedenen Datentypen:\n",
    "liste = [1, 3, \"Hallo\", 5]\n",
    "\n",
    "Bearbeitungshinweis: isinstance() kann genutzt werden, um den Datentyp zu prüfen.\n",
    "\n",
    "Benötigte Themen aus dem Kurs:\n",
    "- If-Anweisung\n",
    "\n"
   ],
   "metadata": {
    "collapsed": false
   }
  },
  {
   "cell_type": "code",
   "execution_count": 12,
   "outputs": [
    {
     "data": {
      "text/plain": "35"
     },
     "execution_count": 12,
     "metadata": {},
     "output_type": "execute_result"
    }
   ],
   "source": [
    "# Lösung Aufgabe 5b\n",
    "\n",
    "liste = [1, 3, \"Hallo\", 5]\n",
    "\n",
    "def square(meine_liste):\n",
    "    liste_neu = []\n",
    "    for i in liste:\n",
    "        if isinstance(i, int):\n",
    "            i = i * i\n",
    "            liste_neu.append(i)\n",
    "    ergebnis = sum(liste_neu)\n",
    "    return ergebnis\n",
    "\n",
    "square(liste)\n",
    "\n",
    "\n"
   ],
   "metadata": {
    "collapsed": false,
    "ExecuteTime": {
     "end_time": "2023-06-09T10:56:16.384117094Z",
     "start_time": "2023-06-09T10:56:16.341760306Z"
    }
   }
  },
  {
   "cell_type": "markdown",
   "source": [
    "Aufgabe 6a\n",
    "\n",
    "Überlegen Sie weshalb im gegebenen Code-Beispiel eine Endlos-Schleife produziert wird."
   ],
   "metadata": {
    "collapsed": false
   }
  },
  {
   "cell_type": "code",
   "execution_count": null,
   "outputs": [],
   "source": [
    "i = 3\n",
    "while i < 5:\n",
    "    print(\"Still counting\")\n",
    "    print(i)\n",
    "\n",
    "print(\"Fertig\")"
   ],
   "metadata": {
    "collapsed": false
   }
  },
  {
   "cell_type": "markdown",
   "source": [
    "Aufgabe 6b\n",
    "Passen Sie den Code an, sodass der Fehler nicht entsteht."
   ],
   "metadata": {
    "collapsed": false
   }
  },
  {
   "cell_type": "code",
   "execution_count": 14,
   "outputs": [
    {
     "name": "stdout",
     "output_type": "stream",
     "text": [
      "Still counting\n",
      "3\n",
      "Still counting\n",
      "4\n",
      "Fertig!\n"
     ]
    }
   ],
   "source": [
    "# Lösung Aufgabe 6b\n",
    "i = 3\n",
    "while i < 5:\n",
    "    print(\"Still counting\")\n",
    "    i = i+1\n",
    "print(\"Fertig!\")"
   ],
   "metadata": {
    "collapsed": false,
    "ExecuteTime": {
     "end_time": "2023-06-09T10:57:00.949520646Z",
     "start_time": "2023-06-09T10:57:00.943270455Z"
    }
   }
  },
  {
   "cell_type": "markdown",
   "source": [
    "While-Schleifen werden ausgeführt, solange eine festgelegte Bedingung erfüllt ist.\n",
    "Für Elemente fixer Länge (Listen, Strings, ...) können stattdessen for-Schleifen verwendet werden.\n",
    "(Bei For-Schleifen muss i = i + 1 *nicht* übernommen werden.)\n"
   ],
   "metadata": {
    "collapsed": false
   }
  },
  {
   "cell_type": "markdown",
   "source": [
    "Aufgabe 6c\n",
    "\n",
    "Passen Sie den Code so an, dass eine for- statt einer while-Schleife verwendet wird."
   ],
   "metadata": {
    "collapsed": false
   }
  },
  {
   "cell_type": "code",
   "execution_count": null,
   "outputs": [],
   "source": [
    "# Lösung Aufgabe 6c\n",
    "\n",
    "for i in range(5):\n",
    "    print(\"Still counting\")\n",
    "    print(i)\n",
    "print(\"Fertig!\")"
   ],
   "metadata": {
    "collapsed": false
   }
  },
  {
   "cell_type": "markdown",
   "source": [],
   "metadata": {
    "collapsed": false
   }
  },
  {
   "cell_type": "code",
   "execution_count": null,
   "outputs": [],
   "source": [],
   "metadata": {
    "collapsed": false
   }
  }
 ],
 "metadata": {
  "kernelspec": {
   "display_name": "Python 3",
   "language": "python",
   "name": "python3"
  },
  "language_info": {
   "codemirror_mode": {
    "name": "ipython",
    "version": 2
   },
   "file_extension": ".py",
   "mimetype": "text/x-python",
   "name": "python",
   "nbconvert_exporter": "python",
   "pygments_lexer": "ipython2",
   "version": "2.7.6"
  }
 },
 "nbformat": 4,
 "nbformat_minor": 0
}
