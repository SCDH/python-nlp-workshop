{
 "cells": [
  {
   "cell_type": "markdown",
   "id": "825705e4-4923-4d18-934d-e095dbfb318a",
   "metadata": {},
   "source": [
    "# Teil 2\n",
    "\n",
    "## Spacy Linguistic I\n",
    "\n",
    "Dieses Notebook enthält Aufgaben zum essentiellen Umgang mit SpaCy, wobei einige Grundlagen aus Python zur Anwendung kommen.\n",
    "\n",
    "Lernziele:  \n",
    "* Was brauche ich, um SpaCy zu starten?\n",
    "* Wie nutze ich ein Langauge Model?\n",
    "* Was steckt in dem \"Doc\"-Objekt?\n",
    "* Wie arbeite ich mit dem \"Doc\"-Objekt?\n",
    "\n",
    "Besuchen Sie https://spacy.io/ und machen Sie sich mit der Website vertraut.  \n",
    "Schauen Sie sich vor allem https://spacy.io/usage/linguistic-features an, um zu verstehen, was die grundlegenden linguistischen Fähigkeiten von SpaCy sind.  "
   ]
  },
  {
   "cell_type": "markdown",
   "id": "4d6bc78f-da94-4150-bb8c-7f1019b96286",
   "metadata": {},
   "source": [
    "Die folgende Zelle können Sie unangetastet lassen. Sie sorgt nur dafür, dass wir bei der Nutzung von SpaCy nicht mit zu vielen Warnungen von Tensorflow belästigt werden."
   ]
  },
  {
   "cell_type": "code",
   "execution_count": 103,
   "id": "cb2d11df-7c0f-4afc-9ec8-65373e84ec95",
   "metadata": {},
   "outputs": [],
   "source": [
    "# Diese Zelle bleibt stehen\n",
    "import os\n",
    "os.environ['TF_CPP_MIN_LOG_LEVEL'] = '3' "
   ]
  },
  {
   "cell_type": "markdown",
   "id": "05c7fed8-039b-409e-b3b4-b0c53581a63c",
   "metadata": {},
   "source": [
    "### Aufgabe 1\n",
    "\n",
    "Installieren Sie, sofern noch nicht geschehen, SpaCy in Ihrer Notebook Umgebung.  \n",
    "Nutzten Sie dazu [Pip](https://pip.pypa.io/en/stable/), den Python Package Manager.  \n",
    "Das Installieren von Packages über den Package Manager benötigt i.d.R. ein Terminal, auch [Shell](https://wiki.ubuntuusers.de/Shell/) genannt.  \n",
    "Einige Befehle lassen sich jedoch auch über Notebooks ausführen, wenn man ein `!` voranstellt.\n",
    "\n",
    "Öffnen Sie entweder ein Terminal und führen den Befehl aus oder schreiben Sie den Befehl in die folgende Zelle."
   ]
  },
  {
   "cell_type": "code",
   "execution_count": 104,
   "id": "2793436c-ca66-4f12-9464-5e136ac3fd09",
   "metadata": {
    "tags": []
   },
   "outputs": [],
   "source": [
    "# !pip install spacy"
   ]
  },
  {
   "cell_type": "markdown",
   "id": "2ade3f4a-3fb3-4abf-add7-729249de9b0a",
   "metadata": {},
   "source": [
    "### Aufgabe 2\n",
    "\n",
    "Laden Sie nun ein passendes SpaCy Language Model herunter.  \n",
    "Für unsere Zwecke eignet sich das Modell \"de_core_news_md\".  \n",
    "Sie finden alle Models unter https://spacy.io/models/de\n",
    "\n",
    "Beachten Sie, dass Sie auch hier wieder ein `!` voranstellen müssen, da es sich um einen Terminalbefehl handelt.  "
   ]
  },
  {
   "cell_type": "code",
   "execution_count": 105,
   "id": "e42119c2-9750-4d07-ba56-51a1cf43ac91",
   "metadata": {
    "tags": []
   },
   "outputs": [],
   "source": [
    "# !python -m spacy download de_core_news_md"
   ]
  },
  {
   "cell_type": "markdown",
   "id": "255a3363-d4f4-4471-85b2-e641026079d7",
   "metadata": {},
   "source": [
    "### Aufgabe 2b (optional)\n",
    "\n",
    "Falls Sie in den oberen Zellen die Befehle mit dem vorangestellten `!` genutzt haben, kommentieren Sie sie bitte aus, um sie nicht bei jedem Durchlauf des Notebooks erneut auszuführen.  \n",
    "Sie können zudem unter \"Edit\" oder der rechten Maustaste die Funktion \"Clear Outputs\" / \"Clear All Outputs\" nutzen, um das Notebook weiterhin übersichtlich zu halten."
   ]
  },
  {
   "cell_type": "markdown",
   "id": "78e40dd9-6401-444b-bafb-1a49559d4593",
   "metadata": {},
   "source": [
    "### Aufgabe 3\n",
    "\n",
    "Importieren Sie nun Spacy in Ihr Notebook, um es direkt nutzen zu können.  "
   ]
  },
  {
   "cell_type": "code",
   "execution_count": 106,
   "id": "4ad7d450-2dac-4d13-b3bd-af3aea29f1f3",
   "metadata": {
    "tags": []
   },
   "outputs": [],
   "source": [
    "import spacy"
   ]
  },
  {
   "cell_type": "markdown",
   "id": "036bcd33-0741-45fb-b8d2-ef60bf6d8f32",
   "metadata": {},
   "source": [
    "### Aufgabe 4\n",
    "\n",
    "Laden Sie nun das Modell, indem Sie `spacy.load()` verwenden.  \n",
    "Als Argument übergeben Sie den spezifischen Namen des Modells, in unserem Fall `de_core_news_md`.  \n",
    "Speichern Sie dies in der Variablen `nlp`.\n",
    "\n",
    "Hinweis: Sie können den Namen frei wählen, jedoch hat sich `nlp` als Konvention herausgebildet."
   ]
  },
  {
   "cell_type": "code",
   "execution_count": 107,
   "id": "4e201fe1-960a-4e87-94a4-71ebb90a7cd0",
   "metadata": {
    "tags": []
   },
   "outputs": [],
   "source": [
    "nlp = spacy.load(\"de_core_news_md\")"
   ]
  },
  {
   "cell_type": "markdown",
   "id": "61e4c432-a013-4fcd-b8c1-7de32749ddec",
   "metadata": {},
   "source": [
    "### Aufgabe 5\n",
    "\n",
    "Schreiben Sie nun in eine Variable einen kurzen Text ihrer Wahl.  \n",
    "**Bitte beachten Sie**: Der Texte sollte mindestens drei Sätze enthalten, die nach den deutschen Rechtschreibregeln verfasst sind.  \n",
    "Übergeben Sie diese Variable dann der Funktion `nlp()`, die Ihnen nun nach dem Import von SpaCy zur Verfügung steht.  \n",
    "\n",
    "Speichern Sie dies in einer neuen Variablen namens `doc` und geben Sie diese Variable aus.  "
   ]
  },
  {
   "cell_type": "code",
   "execution_count": 108,
   "id": "b2aa14b2-2da9-4e4e-8efa-60e3257c88d3",
   "metadata": {
    "tags": []
   },
   "outputs": [
    {
     "name": "stdout",
     "output_type": "stream",
     "text": [
      "Hallo, wie geht es Ihnen? Ich hatte versucht, sie zu kontaktieren. Haben Sie heute Zeit?\n"
     ]
    }
   ],
   "source": [
    "text = 'Hallo, wie geht es Ihnen? Ich hatte versucht, sie zu kontaktieren. Haben Sie heute Zeit?'\n",
    "doc = nlp(text)\n",
    "print(doc)"
   ]
  },
  {
   "cell_type": "markdown",
   "id": "2210e454-4f51-4bd7-844f-b1eb05ce8d80",
   "metadata": {
    "tags": []
   },
   "source": [
    "### Aufgabe 6\n",
    "\n",
    "Schreiben Sie eine Schleife, bei der sie über alle Elemnte in `doc` iterieren.  \n",
    "Geben Sie für jedes Element die Attribute `text`, `lemma_`, `pos_` und `tag_` aus.  \n",
    "Beachten Sie die Unterstriche bei einigen Attributen!"
   ]
  },
  {
   "cell_type": "code",
   "execution_count": 109,
   "id": "8e3255f0-415e-4a27-b57e-9fd55440ea88",
   "metadata": {
    "tags": []
   },
   "outputs": [
    {
     "name": "stdout",
     "output_type": "stream",
     "text": [
      "Hallo Hallo PROPN NE\n",
      ", -- PUNCT $,\n",
      "wie wie ADV PWAV\n",
      "geht gehen VERB VVFIN\n",
      "es es PRON PPER\n",
      "Ihnen ihnen PRON PPER\n",
      "? -- PUNCT $.\n",
      "Ich ich PRON PPER\n",
      "hatte haben AUX VAFIN\n",
      "versucht versuchen VERB VVPP\n",
      ", -- PUNCT $,\n",
      "sie sie PRON PPER\n",
      "zu zu PART PTKZU\n",
      "kontaktieren kontaktieren VERB VVINF\n",
      ". -- PUNCT $.\n",
      "Haben haben AUX VAFIN\n",
      "Sie sie PRON PPER\n",
      "heute heute ADV ADV\n",
      "Zeit Zeit NOUN NN\n",
      "? -- PUNCT $.\n"
     ]
    }
   ],
   "source": [
    "for token in doc:\n",
    "    print(token.text, token.lemma_, token.pos_, token.tag_)"
   ]
  },
  {
   "cell_type": "markdown",
   "id": "7809adee-8a10-44a4-8934-ade071e3fca9",
   "metadata": {
    "tags": []
   },
   "source": [
    "### Aufgabe 6b (optional)\n",
    "\n",
    "Die Unterstriche markieren menschenlesbare Werte in den Attributen. Sie können testweise die Unterstriche entfernen, um zu sehen, mit welchen Werten SpaCy intern arbeitet."
   ]
  },
  {
   "cell_type": "code",
   "execution_count": 110,
   "id": "1a33c150-bb05-4dd2-8710-5f680bd55518",
   "metadata": {
    "tags": []
   },
   "outputs": [
    {
     "name": "stdout",
     "output_type": "stream",
     "text": [
      "Hallo 3417224389557524992 96 17274946937384965927\n",
      ", 10501404726543969396 97 12261388825712162116\n",
      "wie 18390846335711919857 86 17857398595722964141\n",
      "geht 13851756645724982237 100 10675845091474465339\n",
      "es 10343076919720641053 95 9330139752921481772\n",
      "Ihnen 17004602374843522149 95 9330139752921481772\n",
      "? 10501404726543969396 97 17404231807887051932\n",
      "Ich 5864527961345014045 95 9330139752921481772\n",
      "hatte 2479014303761381782 87 16459489951230957934\n",
      "versucht 1566322786737128024 100 10223029614809230375\n",
      ", 10501404726543969396 97 12261388825712162116\n",
      "sie 13323500956662843128 95 9330139752921481772\n",
      "zu 12508082737821923009 94 6713802014480007934\n",
      "kontaktieren 13476839463918806121 100 17015325344306543250\n",
      ". 10501404726543969396 97 17404231807887051932\n",
      "Haben 2479014303761381782 87 16459489951230957934\n",
      "Sie 13323500956662843128 95 9330139752921481772\n",
      "heute 5100113844489031760 86 86\n",
      "Zeit 5345283004344663008 92 15308085513773655218\n",
      "? 10501404726543969396 97 17404231807887051932\n"
     ]
    }
   ],
   "source": [
    "for token in doc:\n",
    "    print(token.text, token.lemma, token.pos, token.tag)"
   ]
  },
  {
   "cell_type": "markdown",
   "id": "f95c8a57-eff8-4fb1-953f-2d0f6f3ccf1b",
   "metadata": {},
   "source": [
    "### Aufgabe 7\n",
    "\n",
    "Erweitern Sie, falls nicht bereits geschehen, Ihren Text um mehrere Sätze.   \n",
    "Wir werden nun versuchen, die Verben aus dem Text herauszufiltern.  \n",
    "\n",
    "Schreiben Sie dazu eine Schleife, bei der Sie erneut über alle Elemente in `doc` iterieren.  \n",
    "Prüfen Sie in der Schleife dann mittels eine Bedingung, ob sich im Attribut `pos_` der Wert `VERB` befindet.  \n",
    "Falls dem so ist, geben Sie das Element aus, indem Sie das Attribut `lemma_` nutzen.  "
   ]
  },
  {
   "cell_type": "code",
   "execution_count": 111,
   "id": "953dc3a5-7e36-48a0-a87b-d705de4abb2f",
   "metadata": {
    "tags": []
   },
   "outputs": [
    {
     "name": "stdout",
     "output_type": "stream",
     "text": [
      "gehen\n",
      "versuchen\n",
      "kontaktieren\n"
     ]
    }
   ],
   "source": [
    "for token in doc:\n",
    "    if token.pos_ == \"VERB\":\n",
    "        print(token.lemma_)"
   ]
  },
  {
   "cell_type": "markdown",
   "id": "27718d93-081f-48dc-8744-9530a24eef2b",
   "metadata": {},
   "source": [
    "### Aufgabe 7b (optional)\n",
    "\n",
    "Ändern Sie den Code so, dass Sie die Verben nicht ausgeben, sondern in eine Liste speichern.  \n",
    "Geben Sie anschließend die Liste aus.\n",
    "\n",
    "Hinweis: Sie können sich aussuchen, ob Sie die Lemmata in einer Liste speichern, oder die gesamten Token-Objekte.  \n",
    "Falls Sie sich für Letzteres entscheiden: Wie können Sie dann alle Lemmata wieder ausgeben?"
   ]
  },
  {
   "cell_type": "code",
   "execution_count": 112,
   "id": "624326ec-2aa2-4f9f-ac5a-e967303f1e6c",
   "metadata": {},
   "outputs": [
    {
     "name": "stdout",
     "output_type": "stream",
     "text": [
      "['gehen', 'versuchen', 'kontaktieren']\n"
     ]
    }
   ],
   "source": [
    "verbs = [] \n",
    "\n",
    "for token in doc:\n",
    "    if token.pos_ == \"VERB\":\n",
    "        verbs.append(token.lemma_)\n",
    "\n",
    "print(verbs)\n",
    "\n",
    "# ALTERNATIVE\n",
    "# verbs = [] \n",
    "\n",
    "# for token in doc:\n",
    "#     if token.pos_ == \"VERB\":\n",
    "#         verbs.append(token)\n",
    "\n",
    "# print([token.pos_ for token in verbs])"
   ]
  },
  {
   "cell_type": "markdown",
   "id": "dfd76407-074d-4998-9e95-a505bbf8efb5",
   "metadata": {
    "tags": []
   },
   "source": [
    "### Aufgabe 8\n",
    "\n",
    "Geben Sie nun alle Sätze aus dem Dokument aus, indem Sie über alle Sätze iterieren.  \n",
    "\n",
    "Optional: Ändern Sie den Text und ersetzen Sie die Satzzeichen durch andere Zeichen (die ggf. im Netzjargon oft vorkommen).  \n",
    "Was beobachten Sie?"
   ]
  },
  {
   "cell_type": "code",
   "execution_count": 113,
   "id": "caa054fc-c8b7-428e-81ef-3d6c330143d6",
   "metadata": {
    "tags": []
   },
   "outputs": [
    {
     "name": "stdout",
     "output_type": "stream",
     "text": [
      "0 Hallo, wie geht es Ihnen?\n",
      "1 Ich hatte versucht, sie zu kontaktieren.\n",
      "2 Haben Sie heute Zeit?\n"
     ]
    }
   ],
   "source": [
    "for i, sent in enumerate(doc.sents):\n",
    "    print(i, sent)    \n",
    "    \n",
    "# OPTIONAL\n",
    "# text = 'Hallo, wie geht es Ihnen.. Ich hatte versucht, sie zu kontaktieren - Haben Sie heute Zeit?'\n",
    "# doc = nlp(text)\n",
    "\n",
    "# for sent in doc.sents:\n",
    "#     print(sent)"
   ]
  },
  {
   "cell_type": "markdown",
   "id": "ef9be382-93d1-4fe2-80bb-7541fc8fd24d",
   "metadata": {},
   "source": [
    "### Aufgabe 9\n",
    "\n",
    "Schreiben Sie nun eine doppelte for-Schleife, in der Sie einmal über die Sätze und einmal über die darin enthaltenen Tokens iterieren.  \n",
    "Speichern Sie alle Tokens in einer Liste und speichern Sie anschließend diese Liste in einer übergeordneten Liste mit Namen \"custom_doc\".  \n",
    "\n",
    "Geben Sie dann das POS-Tag des zweiten Wortes aus dem zweiten Satz aus."
   ]
  },
  {
   "cell_type": "code",
   "execution_count": 114,
   "id": "76ff1f24-fca3-4017-9448-2db8aa5ada12",
   "metadata": {
    "tags": []
   },
   "outputs": [
    {
     "name": "stdout",
     "output_type": "stream",
     "text": [
      "AUX\n"
     ]
    }
   ],
   "source": [
    "custom_doc = []\n",
    "for sent in doc.sents:\n",
    "    sentence_tokens = []\n",
    "    for token in sent:\n",
    "        sentence_tokens.append(token)\n",
    "    custom_doc.append(sentence_tokens)\n",
    "\n",
    "print(custom_doc[1][1].pos_)"
   ]
  },
  {
   "cell_type": "markdown",
   "id": "c0a690a9-7ba8-4f22-89c8-289f90f9f2a0",
   "metadata": {},
   "source": [
    "### Aufgabe 10 - Abschlussaufgabe\n",
    "\n",
    "Lesen Sie den Text in der Datei `/data/bpb.txt` ein und wenden sie die nlp-Methode von SpaCy darauf an.  \n",
    "Extrahieren Sie anschließend alle Jahreszahlen aus dem Text.  \n",
    "\n",
    "Tipp: Nutzen Sie dazu die Attribute von `token`. Eine Übersicht finde Sie hier:  \n",
    "https://spacy.io/api/token  \n",
    "\n",
    "Geben Sie anschließend alle Jahreszahlen nacheinander aus.  \n",
    "\n",
    "Optional: Überlegen Sie sich, wie Sie Kriterien entwickeln können, um Jahreszahlen von anderen vierstelligen Zahlen zu unterscheiden?  "
   ]
  },
  {
   "cell_type": "code",
   "execution_count": 115,
   "id": "aff49fa9-3fd4-4507-80a9-aaace9b2fc7b",
   "metadata": {
    "tags": []
   },
   "outputs": [
    {
     "name": "stdout",
     "output_type": "stream",
     "text": [
      "2016\n",
      "2015\n",
      "2015\n",
      "1000\n",
      "2007\n",
      "2016\n"
     ]
    }
   ],
   "source": [
    "with open ('../data/bpb.txt') as f:\n",
    "    txt = f.read()\n",
    "doc = nlp(txt)\n",
    "\n",
    "for token in doc:\n",
    "    if token.shape_ == 'dddd':\n",
    "        print(token)"
   ]
  }
 ],
 "metadata": {
  "kernelspec": {
   "display_name": "Python 3 (ipykernel)",
   "language": "python",
   "name": "python3"
  },
  "language_info": {
   "codemirror_mode": {
    "name": "ipython",
    "version": 3
   },
   "file_extension": ".py",
   "mimetype": "text/x-python",
   "name": "python",
   "nbconvert_exporter": "python",
   "pygments_lexer": "ipython3",
   "version": "3.10.8"
  }
 },
 "nbformat": 4,
 "nbformat_minor": 5
}
