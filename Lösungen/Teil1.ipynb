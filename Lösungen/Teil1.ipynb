{
 "cells": [
  {
   "cell_type": "markdown",
   "id": "b548150e-e77b-4aa0-b021-36d2135bdabe",
   "metadata": {},
   "source": [
    "# Aufgabe 1\n",
    "\n",
    "Machen Sie sich mit dem Jupyter Notebook vertraut\n",
    "Ein solches Notebook enthält einen Python-Interpreter und verschiedene Zellen\n",
    "Die Zellen können mit Text und/oder Code befüllt werden.\n",
    "Jede Zelle, die Code enthält kann *einzeln* ausgeführt werden.\n",
    "Das erste Beispiel zeigt eine einfache Print-Anweisung, die \"Hello World\" ausgibt.\n",
    "Führen Sie die Zelle aus.\n",
    "Fügen Sie eine weitere Zelle hinzu\n",
    "Die Zelle soll einen Kommentar enthalten (eingeleitet mit #) und ausführbaren Code enthalten. (s. Beispiel)\n",
    "Führen Sie die Zelle über das Play-Symbol in der oberen Leiste aus"
   ]
  },
  {
   "cell_type": "markdown",
   "id": "0fb5ce41-c3cc-42db-95bd-6735d7c3bb9f",
   "metadata": {},
   "source": [
    "# Ziele/Learnings Aufgabe 1\n",
    "\n",
    "* Sicherstellen, dass alle Zugriff auf den Jupyter-Hub der WWU haben\n",
    "* Sicherstellen, dass alle einen Interpreter ausgewählt haben usw.\n",
    "* Einführung des Konzepts \"Ausführbare Zellen)"
   ]
  },
  {
   "cell_type": "code",
   "execution_count": 1,
   "id": "6a68b84f-1336-46ea-bc3f-b6d94252241c",
   "metadata": {
    "ExecuteTime": {
     "end_time": "2023-05-22T12:56:22.757896302Z",
     "start_time": "2023-05-22T12:56:22.739099379Z"
    }
   },
   "outputs": [
    {
     "data": {
      "text/plain": "'Hello World'"
     },
     "execution_count": 1,
     "metadata": {},
     "output_type": "execute_result"
    }
   ],
   "source": [
    "# Beispiel zu Aufgabe 1\n",
    "\"Hello World\""
   ]
  },
  {
   "cell_type": "code",
   "execution_count": 4,
   "id": "b382d838-921f-440d-9218-24bc6fa2ccd9",
   "metadata": {
    "tags": []
   },
   "outputs": [
    {
     "name": "stdout",
     "output_type": "stream",
     "text": [
      "Hello World\n"
     ]
    }
   ],
   "source": [
    "print(\"Hello World\")"
   ]
  },
  {
   "cell_type": "markdown",
   "id": "6ad79205-3766-4fe4-b3e4-6613ccd8ebae",
   "metadata": {},
   "source": [
    "# Aufgabe 2\n",
    "Öffnen Sie die Datei \"bpb.txt\" im Ordner \"data\" unter Benutzung der Funktionen open() und read()"
   ]
  },
  {
   "cell_type": "markdown",
   "id": "89f1879f-c19a-473d-8a5e-f48ccc781688",
   "metadata": {},
   "source": [
    "# Ziele/Learnings Aufgabe 2\n",
    "* Hinführung zu Aufgabe 3"
   ]
  },
  {
   "cell_type": "code",
   "execution_count": 8,
   "id": "bed40fa8-f3e0-47f7-af6f-22eb6b8f7424",
   "metadata": {
    "tags": []
   },
   "outputs": [],
   "source": [
    "with open(\"data/bpb.txt\") as f:\n",
    "          fulltext = f.read()\n",
    "        \n",
    "#print(fulltext)\n",
    "#fulltext"
   ]
  },
  {
   "cell_type": "markdown",
   "id": "3cc974ad-ce25-46e3-8361-985f98b7909c",
   "metadata": {},
   "source": [
    "# Notizen\n",
    "Was unterscheidet die direkte Rückgabe von Print-Rückgabe?\n",
    "print wandelt die Rückgabe immer in einen String um\n",
    "ohne print wird direkt ausgegeben was reinkommt, dh ohne print werden zb steuerungsbefehle direkt mit ausgegeben\n",
    "bei print erfolgt wie man das erwartet formatierung ohne anzeige der steuerzeichen\n"
   ]
  },
  {
   "cell_type": "markdown",
   "id": "515d673a-ca84-4c31-9b21-7f95cce78fde",
   "metadata": {
    "tags": []
   },
   "source": [
    "# Aufgabe 3\n",
    "\n"
   ]
  },
  {
   "cell_type": "markdown",
   "id": "572f8ea6-ed22-43e1-9fe7-2d922d8fb98e",
   "metadata": {},
   "source": [
    "# Ziele/Learnings Aufgabe 3\n",
    "\n",
    "* Öffnen mehrerer Dateien in einem Ordner\n",
    "* Pfadangaben\n",
    "* Wildcards\n",
    "\n",
    "# Mögliche typische Fehler\n",
    "\n",
    "filename lesen <-> file object lesen\n",
    "'str' object has no attribute 'read'\n",
    "\n",
    "\n",
    "TypeError: can only concatenate str (not \"builtin_function_or_method\") to str\n",
    "Klammern hinter read() vergessen\n"
   ]
  },
  {
   "cell_type": "code",
   "execution_count": 18,
   "id": "109798e5-f4c6-403e-9919-aa9d6e2b6633",
   "metadata": {
    "tags": []
   },
   "outputs": [],
   "source": [
    "from glob import glob\n",
    "\n",
    "filelist = glob(\"data/*.txt\")\n",
    "fulltext = \"\"\n",
    "for file in filelist:\n",
    "    with open(file) as f:\n",
    "        bla = f.read()\n",
    "        fulltext = fulltext + bla        \n",
    "# print(fulltext)"
   ]
  },
  {
   "cell_type": "markdown",
   "id": "3d42aa79-c660-4e8f-947c-aa35759ce363",
   "metadata": {},
   "source": [
    "# Aufgabe 4\n",
    "\n",
    "Tabellen einlesen"
   ]
  },
  {
   "cell_type": "code",
   "execution_count": 62,
   "id": "0cdc5b54-3e38-44f8-8831-039752564539",
   "metadata": {
    "tags": [],
    "ExecuteTime": {
     "end_time": "2023-06-14T12:05:02.069070442Z",
     "start_time": "2023-06-14T12:05:02.028648619Z"
    }
   },
   "outputs": [
    {
     "name": "stdout",
     "output_type": "stream",
     "text": [
      "1467822519,Mon Apr 06 22:22:49 PDT 2009,gzacher,Ugh....92 degrees tomorrow \n",
      "1467822522,Mon Apr 06 22:22:49 PDT 2009,Jenn_L,Where did u move to?  I thought u were already in sd. ?? Hmmm. Random u found me. Glad to hear yer doing well.\n",
      "1467822687,Mon Apr 06 22:22:52 PDT 2009,xVivaLaJuicyx,\"@BatManYNG I miss my ps3, it's out of commission  Wutcha playing? Have you copped 'Blood On The Sand'?\"\n",
      "1467822918,Mon Apr 06 22:22:55 PDT 2009,krbleyle,just leaving the parking lot of work! \n",
      "1467823437,Mon Apr 06 22:23:03 PDT 2009,xpika,The Life is cool. But not for Me. \n",
      "1467823770,Mon Apr 06 22:23:08 PDT 2009,Henkuyinepu,\"Sadly though, I've never gotten to experience the post coitus cigarette before, and now I never will. \"\n",
      "1467823851,Mon Apr 06 22:23:09 PDT 2009,ericg622,I had such a nice day. Too bad the rain comes in tomorrow at 5am \n",
      "1467824199,Mon Apr 06 22:23:15 PDT 2009,adri_mane,@Starrbby too bad I won't be around I lost my job and can't even pay my phone bill lmao aw shucks \n",
      "1467824664,Mon Apr 06 22:23:23 PDT 2009,a_mariepyt,Damm back to school tomorrow \n",
      "1467824967,Mon Apr 06 22:23:28 PDT 2009,playboybacon,\"Mo jobs, no money.  how in the hell is min wage here 4 f'n clams an hour?\"\n",
      "1467825003,Mon Apr 06 22:23:28 PDT 2009,leslierosales,@katortiz  Not forever... See you soon!\n",
      "1467825084,Mon Apr 06 22:23:30 PDT 2009,PresidentSnow,\"@Lt_Algonquin agreed, try this http://twitter.com/support 😚\"\n",
      "1467825411,Mon Apr 06 22:23:35 PDT 2009,michrod,@jdarter Oh! Haha... dude I dont really look at em unless someone says HEY I ADDED YOU. Sorry  I'm so terrible at that. I need a pop up!\n",
      "1467825642,Mon Apr 06 22:23:39 PDT 2009,timmelko,@ninjen I'm sure you're right...    I need to start working out with you and the Nikster... Or Jared at least!\n",
      "1467825863,Mon Apr 06 22:23:43 PDT 2009,BrookeAmanda,i really hate how people diss my bands!  Trace is clearly NOT ugly!\n",
      "1467825883,Mon Apr 06 22:23:43 PDT 2009,deelau,\"Gym attire today was: Puma singlet, Adidas shorts.......and black business socks and leather shoes  Lucky did not run into any cute girls.\"\n",
      "1467826052,Mon Apr 06 22:23:45 PDT 2009,paulseverio,Why won't you show my location?!   http://twitpic.com/2y2es\n",
      "1467833672,Mon Apr 06 22:25:44 PDT 2009,iv3tte,No picnic  my phone smells like citrus.\n",
      "1467833690,Mon Apr 06 22:25:44 PDT 2009,fedunska,\"@ashleyac My donkey is sensitive about such comments. Nevertheless, he'd (and me'd) be glad to see your mug asap. Charger is still awol. \"\n",
      "1467833736,Mon Apr 06 22:25:45 PDT 2009,MagicalMason,No new csi tonight.  FML\n",
      "1467833799,Mon Apr 06 22:25:46 PDT 2009,kaelaaa,i think my arms are sore from tennis #sport\n",
      "1467834001,Mon Apr 06 22:25:49 PDT 2009,emo_holic,wonders why someone that u like so much can make you so unhappy in a split seccond . depressed . \n",
      "1467834053,Mon Apr 06 22:25:52 PDT 2009,thelazyboy,sleep soon... i just hate saying bye and see you tomorrow for the night. \n",
      "1467834227,Mon Apr 06 22:25:53 PDT 2009,driveaway2008,\"@statravelAU just got ur newsletter, those fares really are unbelievable, shame I already booked and paid for mine \"\n",
      "1467834239,Mon Apr 06 22:25:53 PDT 2009,mscha,missin' the boo \n",
      "1467834265,Mon Apr 06 22:25:54 PDT 2009,mike_webster_au,@markhardy1974 Me too  #itm 😶\n",
      "1467834284,Mon Apr 06 22:25:54 PDT 2009,basiabeans,Damn... I don't have any chalk! MY CHALKBOARD IS USELESS 😀\n",
      "1467834400,Mon Apr 06 22:25:56 PDT 2009,calihonda2001,\"had a blast at the Getty Villa, but hates that she's had a sore throat all day. It's just getting worse too \"\n",
      "1467834817,Mon Apr 06 22:26:02 PDT 2009,djwayneski,@msdrama hey missed ya at the meeting  sup mama\n",
      "1467835085,Mon Apr 06 22:26:06 PDT 2009,Ceejison,\"My tummy hurts.  I wonder if the hypnosis has anything to do with it? If so, it's working, I get it, STOP SMOKING!!!\"\n",
      "1467835198,Mon Apr 06 22:26:08 PDT 2009,ItsBrigittaYo,why is it always the fat ones?! \n",
      "1467835305,Mon Apr 06 22:26:10 PDT 2009,MissLaura317,\"@januarycrimson Sorry, babe!!  My fam annoys me too. Thankfully, they're asleep right now. Muahaha. *evil laugh*\"\n",
      "1467835345,Mon Apr 06 22:26:10 PDT 2009,RU_it_girl,@Hollywoodheat I should have paid more attention when we covered photoshop in my webpage design class in undergrad \n",
      "1467835577,Mon Apr 06 22:26:14 PDT 2009,viviana09,wednesday my b-day! don't know what 2 do!! \n",
      "1467835880,Mon Apr 06 22:26:18 PDT 2009,DisneyUS,Please contact us via support@disney.com\n",
      "1467836024,Mon Apr 06 22:26:21 PDT 2009,RoseMaryK,\"pray for me please, the ex is threatening to start sh** at my/our babies 1st Birthday party. what a jerk. and I still have a headache \"\n",
      "1467836111,Mon Apr 06 22:26:22 PDT 2009,perrohunter,\"@makeherfamous hmm  , do u really enjoy being with him ? if the problems are too constants u should think things more , find someone ulike\"\n",
      "1467836448,Mon Apr 06 22:26:27 PDT 2009,Dogbook,Strider is a sick little puppy  http://apps.facebook.com/dogbook/profile/view/5248435 #feelsbadman 🤮\n",
      "1467836500,Mon Apr 06 22:26:28 PDT 2009,natalieantipas,\"so rylee,grace...wana go steve's party or not?? SADLY SINCE ITS EASTER I WNT B ABLE 2 DO MUCH  BUT OHH WELL.....\"\n",
      "1467836576,Mon Apr 06 22:26:29 PDT 2009,timdonnelly,\"hey, I actually won one of my bracket pools! Too bad it wasn't the one for money \"\n",
      "1467836583,Mon Apr 06 22:26:29 PDT 2009,homeworld,\"@stark YOU don't follow me, either  and i work for you!\"\n",
      "1467836859,Mon Apr 06 22:26:33 PDT 2009,willy_chaz,A bad nite for the favorite teams: Astros and Spartans lose.  The nite out with T.W. was good.\n",
      "1467836873,Mon Apr 06 22:26:33 PDT 2009,LeakySpoon, Body Of Missing Northern Calif. Girl Found: Police have found the remains of a missing Northern California girl .. http://tr.im/imji\n",
      "1467837189,Mon Apr 06 22:26:38 PDT 2009,cityrat59,\"@mangaaa I hope they will increase the capacity fast, yesterday was such a pain. Got the fail whale +15 times in 2 hours.... \"\n",
      "1467837384,Mon Apr 06 22:26:42 PDT 2009,kenandise,Behind on my classes for work \n",
      "1467837470,Mon Apr 06 22:26:43 PDT 2009,annette414,watching &quot;House&quot; \n",
      "1467837579,Mon Apr 06 22:26:45 PDT 2009,blackheartbunny,@kpreyes Remember my bum leg? Strikes back this time its serious \n",
      "1467837602,Mon Apr 06 22:26:45 PDT 2009,GetGary,\"@paradisej cool, i will. their are all kinds of complaints about this laptop online about overheating, but no recalls \"\n",
      "1467837762,Mon Apr 06 22:26:48 PDT 2009,Dogbook,Emily will be glad when Mommy is done training at her new job. She misses her.  http://apps.facebook.com/dogbook/profile/view/6176014\n",
      "1467837819,Mon Apr 06 22:26:49 PDT 2009,SimoniNicole,would rather the first party send bad messages than the 3rd party send mixed ones  Sophmore year all over again?\n",
      "1467837888,Mon Apr 06 22:26:52 PDT 2009,wireandroses,@Henkuyinepu it's overrated \n",
      "1467838188,Mon Apr 06 22:26:54 PDT 2009,jess_higley,@marykatherine_q i know! I heard it this afternoon and wondered the same thing. Moscow is so behind the times \n",
      "1467838189,Mon Apr 06 22:26:54 PDT 2009,missannabanana,laying in bed with no voice.. \n",
      "1467838362,Mon Apr 06 22:26:57 PDT 2009,Douglas,We are able to support you at support@douglas.com #yourchoice\n",
      "1467838419,Mon Apr 06 22:27:00 PDT 2009,polarna10,@jacobsummers Sorry  tell them mea culpa from me and that I really am sorry.\n",
      "1467838433,Mon Apr 06 22:26:58 PDT 2009,megan_rice,\"@Alliana07 it didn't make any sense to me, the suicide thing. I refuse to believe that that is actually what happened. \"\n",
      "\n"
     ]
    }
   ],
   "source": [
    "with open(\"data/tweets.csv\") as f:\n",
    "    my_chart = f.read()\n",
    "       \n",
    "print(my_chart)"
   ]
  },
  {
   "cell_type": "markdown",
   "id": "28412355-0774-4174-8cb9-1b654e0b6cd9",
   "metadata": {},
   "source": [
    "# Aufgabe 5\n",
    "Erste Datenaufbereitung\n",
    "Zeilenumbruch finden\n",
    "In eine Liste von Zeilen umwandeln\n",
    "Tip: mein_string.split(chr(10))\n",
    "Erläuterung Unicode Zeilenend-Zeichen\n",
    "Testausgabe erster Eintrag Liste\n",
    "Tip: zeilenliste[0]\n"
   ]
  },
  {
   "cell_type": "markdown",
   "id": "c4d112ef-5704-43af-af31-de4546fa847e",
   "metadata": {},
   "source": [
    "# Ziele/Learnings Aufgabe 5\n",
    "\n",
    "* Erste Datenaufbereitung\n",
    "* Nutzung von UTF-8-Codes\n",
    "* Arbeit mit Tabellen\n",
    "* Text extrahieren aus Tabellen\n"
   ]
  },
  {
   "cell_type": "code",
   "execution_count": 11,
   "id": "38f83c32-78f8-42ca-a5fc-18271118d2e9",
   "metadata": {
    "tags": []
   },
   "outputs": [
    {
     "name": "stdout",
     "output_type": "stream",
     "text": [
      "1467822519,Mon Apr 06 22:22:49 PDT 2009,gzacher,Ugh....92 degrees tomorrow \n"
     ]
    }
   ],
   "source": [
    "zeilenliste = my_chart.split(chr(10))\n",
    "\n",
    "# print(zeilenliste)\n",
    "print(zeilenliste[0])"
   ]
  },
  {
   "cell_type": "markdown",
   "id": "7d64485b-0ed7-4b98-84f0-ea12e173a32f",
   "metadata": {},
   "source": [
    "# Aufgabe 6\n",
    "An Kommata trennen\n",
    "\n",
    "(Mini-Einführung RegEx)"
   ]
  },
  {
   "cell_type": "markdown",
   "id": "9b291871-def9-4124-aff6-0bb2669ae77f",
   "metadata": {},
   "source": [
    "# Ziele/Learnings Aufgabe 6\n",
    "* split()\n",
    "* Umgang mit Listen\n",
    "* Datenaufbereitung\n",
    "* list.append()"
   ]
  },
  {
   "cell_type": "code",
   "execution_count": 28,
   "id": "1b944553-4607-4bab-999f-acf7243cabc4",
   "metadata": {
    "tags": []
   },
   "outputs": [
    {
     "name": "stdout",
     "output_type": "stream",
     "text": [
      "['1467822519', 'Mon Apr 06 22:22:49 PDT 2009', 'gzacher', 'Ugh....92 degrees tomorrow ']\n"
     ]
    }
   ],
   "source": [
    "li = []\n",
    "for zeile in zeilenliste:\n",
    "    zwliste = zeile.split(\",\")\n",
    "    li.append(zwliste)\n",
    "    \n",
    "# print(li)\n",
    "print(li[0])"
   ]
  },
  {
   "cell_type": "code",
   "execution_count": null,
   "id": "284a7527-6f92-48fb-8160-19d1fd381410",
   "metadata": {},
   "outputs": [],
   "source": [
    "# Man sieht jetzt 4 Einträge pro Unterliste\n",
    "# Uns interessiert nur der letzte"
   ]
  },
  {
   "cell_type": "markdown",
   "id": "8cb1a08e-73af-43a0-8371-de170b85367c",
   "metadata": {},
   "source": [
    "# Aufgabe 7\n"
   ]
  },
  {
   "cell_type": "markdown",
   "id": "f8dcbc78-fd55-4fdf-a14d-6dc94361f824",
   "metadata": {},
   "source": [
    "# Ziele/Learnings Aufgabe 7\n",
    "\n",
    "* Bestimmte Elemente aus Liste extrahieren und zusammenführen\n",
    "* geschachtelter Listenzugriff (mehrdimensionale Arrays)"
   ]
  },
  {
   "cell_type": "code",
   "execution_count": null,
   "id": "71916e64-8526-434f-a1bf-90cc4fc80e81",
   "metadata": {},
   "outputs": [],
   "source": []
  },
  {
   "cell_type": "markdown",
   "id": "9fb09607-3ac6-4f01-8651-edd499f4052d",
   "metadata": {},
   "source": [
    "# RegEX\n",
    "Kleine Änderung und dann in files schreiben\n",
    "einmal .txt, einmal .csv?"
   ]
  },
  {
   "cell_type": "raw",
   "id": "cdf6a8a2-d338-4505-a11c-b163602c8641",
   "metadata": {},
   "source": [
    "Abschnitt 3\n",
    "\n",
    "Basic Textbearbeitung/Bereinigung\n",
    "tweets trennen an zeilenumbrüchen?\n",
    "minimum regex brauchen wir\n",
    "https://regex101.com/ Hinweis auf regex-Tester\n",
    "https://docs.python.org/3/howto/regex.html"
   ]
  },
  {
   "cell_type": "markdown",
   "source": [
    "Regex im Grunde genommen eine eigene kleine Sprache\n",
    "Speziell geeignet für die Arbeit mit Strings\n",
    "Einfachste Anwendung: matching characters\n",
    "Beispiel: characters, die sich einfach selbst matchen"
   ],
   "metadata": {
    "collapsed": false
   }
  },
  {
   "cell_type": "code",
   "execution_count": null,
   "outputs": [],
   "source": [
    "# TODO Einfache Aufgabe mit sich selbst matchenden charactern\n",
    "# import re erklären\n",
    "# erste Einführung Syntax\n",
    "# Überleitung von [] zu meta characters"
   ],
   "metadata": {
    "collapsed": false
   }
  },
  {
   "cell_type": "markdown",
   "source": [
    "Meta characters finden sich nicht selbst, sondern haben spezielle Funktionen\n",
    "Wenn man einen meta character finden möchte, kann man escape-Zeichen vor den meta character setzen"
   ],
   "metadata": {
    "collapsed": false
   }
  },
  {
   "cell_type": "code",
   "execution_count": null,
   "outputs": [],
   "source": [
    "# TODO Meta characters"
   ],
   "metadata": {
    "collapsed": false
   }
  },
  {
   "cell_type": "raw",
   "source": [
    "^ einführen für \"alles, außer\"\n",
    "[^5], [5^], [\\^5]\n",
    "Zeigt glaube ich ganz gut den Unterschied zwischen plain match, escapes und Steuerzeichen"
   ],
   "metadata": {
    "collapsed": false
   }
  },
  {
   "cell_type": "markdown",
   "source": [
    "# Aufgabe 8\n",
    "Beispielaufgabe \"Find the cats\"\n",
    "Schwerpunkt Quantoren, grundlegendes Verhalten, greedyness\n",
    "cat\n",
    "cats\n",
    "caaaaat\n",
    "cct"
   ],
   "metadata": {
    "collapsed": false
   }
  },
  {
   "cell_type": "markdown",
   "source": [
    "# Aufgabe 8a\n",
    "Suchen Sie \"cat\" korrekt geschrieben."
   ],
   "metadata": {
    "collapsed": false
   }
  },
  {
   "cell_type": "markdown",
   "source": [
    "# Kommentar Match object\n",
    "Wenn nichts gefunden worden wäre würde der Rückgabewert None lauten.\n",
    "Erste Info, die uns das match-Objekt gibt: es wurde was gefunden\n",
    "span zeigt den Ort in charactern an. außerdem wird ausgegeben was gematcht wurde\n",
    "Wahrscheinlich wollen wir aber sehen wo im Text unser Fund steht."
   ],
   "metadata": {
    "collapsed": false
   }
  },
  {
   "cell_type": "code",
   "execution_count": 6,
   "outputs": [
    {
     "name": "stdout",
     "output_type": "stream",
     "text": [
      "<re.Match object; span=(2307, 2310), match='cat'>\n",
      "['cat']\n"
     ]
    }
   ],
   "source": [
    "import re\n",
    "# with open kam oben schon\n",
    "# Aufgabe: statement entsprechend anpassen\n",
    "with open(\"data/cats.txt\") as f:\n",
    "    my_text = f.read()\n",
    "    # einfach character matching\n",
    "cat = re.search(\"cat\", my_text)\n",
    "print(cat)\n",
    "\n",
    "cat = re.findall(\"cat\", my_text)\n",
    "print(cat)"
   ],
   "metadata": {
    "collapsed": false,
    "ExecuteTime": {
     "end_time": "2023-06-12T14:03:52.844560105Z",
     "start_time": "2023-06-12T14:03:52.807231885Z"
    }
   }
  },
  {
   "cell_type": "markdown",
   "source": [
    "# Aufgabe 8b\n",
    "Jetzt ein regex Ausdruck mit dem wir alle falschgeschriebenen Varianten von cat finden"
   ],
   "metadata": {
    "collapsed": false
   }
  },
  {
   "cell_type": "markdown",
   "source": [
    "Jetzt ein regex Ausdruck mit dem wir alle falschgeschriebenen Varianten von cat finden\n",
    "Gemeinsam machen ua zu Hilfenahme regextester\n",
    "Quantoren und alles was wir sonst noch dafür brauchen an die Wand werfen\n",
    "\n",
    "cat\n",
    "cats\n",
    "caaaaat\n",
    "cct"
   ],
   "metadata": {
    "collapsed": false
   }
  },
  {
   "cell_type": "code",
   "execution_count": null,
   "outputs": [],
   "source": [
    "# Lösung falsche Katzen\n",
    "import re\n",
    "# with open kam oben schon\n",
    "# Aufgabe: statement entsprechend anpassen\n",
    "with open(\"data/cats.txt\") as f:\n",
    "    my_text = f.read()\n",
    "    # einfach character matching\n",
    "cat = re.search(\"cat\", my_text)\n",
    "print(cat)\n",
    "\n",
    "cat = re.findall(\"cat\", my_text)\n",
    "print(cat)\n",
    "\n",
    "# Ausdruck, der möglichst viele Varianten findet\n",
    "# Bin gespannt, ob jemand auf einen Ausdruck für alle kommt\n",
    "\n",
    "# Ausdruck, der alle oben genannten Fälle finden sollte\n",
    "cat_match = re.compile(\"c.+t.*\")\n",
    "cat2 = re.findall(cat_match, my_text)\n",
    "print(cat2)\n",
    "\n"
   ],
   "metadata": {
    "collapsed": false
   }
  },
  {
   "cell_type": "markdown",
   "source": [
    "Man kriegt als erstes einen riesigen Textblock zurück"
   ],
   "metadata": {
    "collapsed": false
   }
  },
  {
   "cell_type": "markdown",
   "source": [
    "Schönes Beispiel dafür, dass RegEx mit Vorsicht zu genießen sind.\n",
    "Jetzt richtiges Beispiel das funktioniert.\n",
    "Lass ich diesn verkorksten Output so? Ich finde es ist ein super Beispiel für real world Probleme\n",
    "Aber halt auch hart unübersichtlich als Lösung einer Übungsaufgabe"
   ],
   "metadata": {
    "collapsed": false
   }
  },
  {
   "cell_type": "markdown",
   "source": [
    "Ausdruck einfach weiter so anpassen, dass nur die gesuchten Sachen gematcht werden\n",
    "TODO: Lösung hierfür erstellen"
   ],
   "metadata": {
    "collapsed": false
   }
  },
  {
   "cell_type": "markdown",
   "source": [
    "# Aufgabe 9\n",
    "\n",
    "Hypothese: je häufiger Wörter in einer Sprach vorkommen desto kürzer sind sie\n",
    "\n",
    ".txt-file zerlegen\n",
    "tokenisieren (Vorgriff auf spacy? nein, wir machen das mit split. das ruft bestimmt unzufriedenheit bzgl. Lemmatisierung hervor. Dann kann ich auf spacy am Freitag verweisen.)\n",
    "\n",
    "- Trennzeichen entfernen (Komma oder Semikola)\n",
    "- Welche Spalten können durch Länge oder durch einheitliche Form gefunden werden? Z.B. nur Zahlen und Bindestriche\n",
    "- unterteilen Sie den Text mit Hilfe von .split() in Wörter.\n",
    "Wort = alles was Leerzeichen oder Leerzeichen + Punkt oder Zeilenumbruch + Leerzeichen begrenzt wird."
   ],
   "metadata": {
    "collapsed": false
   }
  },
  {
   "cell_type": "code",
   "execution_count": null,
   "outputs": [],
   "source": [
    "import csv\n",
    "with open(\"data/tweets.csv\") as f:\n",
    "    my_csv = csv.reader(f, delimiter=\",\")\n",
    "    #for row in my_csv:\n",
    "        #print(row)\n",
    "    my_list = []\n",
    "    for row in my_csv:\n",
    "        new_tweets = \"\".join(row[3])\n",
    "        my_list.append(new_tweets)\n",
    "\n",
    "    print(my_list)\n"
   ],
   "metadata": {
    "collapsed": false
   }
  },
  {
   "cell_type": "code",
   "execution_count": null,
   "outputs": [],
   "source": [
    "# Wörter sind alles was von Leerzeichen, Punkten oder Kommata begrenzt wird (zeilenumbruch sollten wir hier nicht brauchen)\n",
    "# Aufgabe: RegEx dafür formulieren\n",
    "# Achtung! Das ist noch eine Liste! Wir wollen aber einen String\n",
    "# --> Aufgabe: Listenelemente zu einem langen String konkatenieren"
   ],
   "metadata": {
    "collapsed": false
   }
  },
  {
   "cell_type": "code",
   "execution_count": 12,
   "outputs": [],
   "source": [
    "for i in my_list:\n",
    "    \" \".join(my_list)\n",
    "\n",
    "my_string = \" \".join(my_list)"
   ],
   "metadata": {
    "collapsed": false,
    "ExecuteTime": {
     "end_time": "2023-06-14T06:36:54.652693813Z",
     "start_time": "2023-06-14T06:36:54.611924605Z"
    }
   }
  },
  {
   "cell_type": "code",
   "execution_count": 22,
   "outputs": [
    {
     "name": "stdout",
     "output_type": "stream",
     "text": [
      "['Ugh....92 degrees tomorrow ', 'Where did u move to?  I thought u were already in sd. ?? Hmmm. Random u found me. Glad to hear yer doing well.', \"@BatManYNG I miss my ps3, it's out of commission  Wutcha playing? Have you copped 'Blood On The Sand'?\", 'just leaving the parking lot of work! ', 'The Life is cool. But not for Me. ', \"Sadly though, I've never gotten to experience the post coitus cigarette before, and now I never will. \", 'I had such a nice day. Too bad the rain comes in tomorrow at 5am ', \"@Starrbby too bad I won't be around I lost my job and can't even pay my phone bill lmao aw shucks \", 'Damm back to school tomorrow ', \"Mo jobs, no money.  how in the hell is min wage here 4 f'n clams an hour?\", '@katortiz  Not forever... See you soon!', '@Lt_Algonquin agreed, try this http://twitter.com/support 😚', \"@jdarter Oh! Haha... dude I dont really look at em unless someone says HEY I ADDED YOU. Sorry  I'm so terrible at that. I need a pop up!\", \"@ninjen I'm sure you're right...    I need to start working out with you and the Nikster... Or Jared at least!\", 'i really hate how people diss my bands!  Trace is clearly NOT ugly!', 'Gym attire today was: Puma singlet, Adidas shorts.......and black business socks and leather shoes  Lucky did not run into any cute girls.', \"Why won't you show my location?!   http://twitpic.com/2y2es\", 'No picnic  my phone smells like citrus.', \"@ashleyac My donkey is sensitive about such comments. Nevertheless, he'd (and me'd) be glad to see your mug asap. Charger is still awol. \", 'No new csi tonight.  FML', 'i think my arms are sore from tennis #sport', 'wonders why someone that u like so much can make you so unhappy in a split seccond . depressed . ', 'sleep soon... i just hate saying bye and see you tomorrow for the night. ', '@statravelAU just got ur newsletter, those fares really are unbelievable, shame I already booked and paid for mine ', \"missin' the boo \", '@markhardy1974 Me too  #itm 😶', \"Damn... I don't have any chalk! MY CHALKBOARD IS USELESS 😀\", \"had a blast at the Getty Villa, but hates that she's had a sore throat all day. It's just getting worse too \", '@msdrama hey missed ya at the meeting  sup mama', \"My tummy hurts.  I wonder if the hypnosis has anything to do with it? If so, it's working, I get it, STOP SMOKING!!!\", 'why is it always the fat ones?! ', \"@januarycrimson Sorry, babe!!  My fam annoys me too. Thankfully, they're asleep right now. Muahaha. *evil laugh*\", '@Hollywoodheat I should have paid more attention when we covered photoshop in my webpage design class in undergrad ', \"wednesday my b-day! don't know what 2 do!! \", 'Please contact us via support@disney.com', 'pray for me please, the ex is threatening to start sh** at my/our babies 1st Birthday party. what a jerk. and I still have a headache ', '@makeherfamous hmm  , do u really enjoy being with him ? if the problems are too constants u should think things more , find someone ulike', 'Strider is a sick little puppy  http://apps.facebook.com/dogbook/profile/view/5248435 #feelsbadman 🤮', \"so rylee,grace...wana go steve's party or not?? SADLY SINCE ITS EASTER I WNT B ABLE 2 DO MUCH  BUT OHH WELL.....\", \"hey, I actually won one of my bracket pools! Too bad it wasn't the one for money \", \"@stark YOU don't follow me, either  and i work for you!\", 'A bad nite for the favorite teams: Astros and Spartans lose.  The nite out with T.W. was good.', ' Body Of Missing Northern Calif. Girl Found: Police have found the remains of a missing Northern California girl .. http://tr.im/imji', '@mangaaa I hope they will increase the capacity fast, yesterday was such a pain. Got the fail whale +15 times in 2 hours.... ', 'Behind on my classes for work ', 'watching &quot;House&quot; ', '@kpreyes Remember my bum leg? Strikes back this time its serious ', '@paradisej cool, i will. their are all kinds of complaints about this laptop online about overheating, but no recalls ', 'Emily will be glad when Mommy is done training at her new job. She misses her.  http://apps.facebook.com/dogbook/profile/view/6176014', 'would rather the first party send bad messages than the 3rd party send mixed ones  Sophmore year all over again?', \"@Henkuyinepu it's overrated \", '@marykatherine_q i know! I heard it this afternoon and wondered the same thing. Moscow is so behind the times ', 'laying in bed with no voice.. ', 'We are able to support you at support@douglas.com #yourchoice', '@jacobsummers Sorry  tell them mea culpa from me and that I really am sorry.', \"@Alliana07 it didn't make any sense to me, the suicide thing. I refuse to believe that that is actually what happened. \"]\n",
      "<class 'str'>\n"
     ]
    }
   ],
   "source": [
    "print(my_string)\n",
    "print(type(my_string))"
   ],
   "metadata": {
    "collapsed": false,
    "ExecuteTime": {
     "end_time": "2023-06-14T07:50:12.306203777Z",
     "start_time": "2023-06-14T07:50:12.261757628Z"
    }
   }
  },
  {
   "cell_type": "code",
   "execution_count": null,
   "outputs": [],
   "source": [
    "import re\n",
    "# cleaning steps\n",
    "# \" ' @ ,\n",
    "# sub für substitution, eine der wichtigsten Funktionen für Textarbeit\n",
    "\n",
    "expression = re.compile(\"\\\"|'|,\")\n",
    "cleaned_text = expression.sub(\" \", my_string)\n",
    "print(cleaned_text)\n",
    "\n",
    "\n"
   ],
   "metadata": {
    "collapsed": false
   }
  },
  {
   "cell_type": "code",
   "execution_count": 39,
   "outputs": [],
   "source": [
    "# alles in Kleinbuchstaben umwandeln\n",
    "cleaned_text_lower = cleaned_text.lower()"
   ],
   "metadata": {
    "collapsed": false,
    "ExecuteTime": {
     "end_time": "2023-06-14T09:15:46.173496083Z",
     "start_time": "2023-06-14T09:15:46.124796874Z"
    }
   }
  },
  {
   "cell_type": "code",
   "execution_count": 44,
   "outputs": [],
   "source": [
    "# alles wieder umwandeln zu liste. diesmal nur eine dimension und jedes wort 1 element\n",
    "\n",
    "wortliste = cleaned_text_lower.split(\" \")"
   ],
   "metadata": {
    "collapsed": false,
    "ExecuteTime": {
     "end_time": "2023-06-14T09:30:59.590231422Z",
     "start_time": "2023-06-14T09:30:59.541653715Z"
    }
   }
  },
  {
   "cell_type": "code",
   "execution_count": null,
   "outputs": [],
   "source": [
    "print(wortliste)"
   ],
   "metadata": {
    "collapsed": false
   }
  },
  {
   "cell_type": "code",
   "execution_count": null,
   "outputs": [],
   "source": [
    "# wiederholte Vorkommen zählen\n",
    "\n",
    "# erste Idee: Verwende count()\n",
    "# Problem: Dafür müssten wir schon wissen wonach wir suchen\n",
    "# Man könnte natürlich die ganze Liste Element für Element durchgehen\n",
    "# --> können wir ausprobieren als naiven Ansatz"
   ],
   "metadata": {
    "collapsed": false
   }
  },
  {
   "cell_type": "code",
   "execution_count": null,
   "outputs": [],
   "source": [
    "from collections import Counter\n",
    "\n",
    "worthäufigkeiten = dict(Counter(wortliste))\n",
    "print(worthäufigkeiten)"
   ],
   "metadata": {
    "collapsed": false
   }
  },
  {
   "cell_type": "code",
   "execution_count": null,
   "outputs": [],
   "source": [
    "from operator import itemgetter\n",
    "\n",
    "# https://realpython.com/sort-python-dictionary/\n",
    "\n",
    "# dicts nach value sortieren nicht trivial\n",
    "# dictionary view (.items())\n",
    "worthäufigkeiten_sorted = sorted(worthäufigkeiten.items(), key=lambda item: item[1], reverse=True)\n",
    "# print(worthäufigkeiten_sorted)\n",
    "print(worthäufigkeiten_sorted[0:11])"
   ],
   "metadata": {
    "collapsed": false
   }
  },
  {
   "cell_type": "code",
   "execution_count": null,
   "outputs": [],
   "source": [],
   "metadata": {
    "collapsed": false
   }
  }
 ],
 "metadata": {
  "kernelspec": {
   "display_name": "Python 3 (ipykernel)",
   "language": "python",
   "name": "python3"
  },
  "language_info": {
   "codemirror_mode": {
    "name": "ipython",
    "version": 3
   },
   "file_extension": ".py",
   "mimetype": "text/x-python",
   "name": "python",
   "nbconvert_exporter": "python",
   "pygments_lexer": "ipython3",
   "version": "3.10.8"
  },
  "toc-autonumbering": false
 },
 "nbformat": 4,
 "nbformat_minor": 5
}
