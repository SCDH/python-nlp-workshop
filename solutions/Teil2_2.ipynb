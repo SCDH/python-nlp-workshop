{
 "cells": [
  {
   "cell_type": "markdown",
   "id": "03705eda-ad6f-40df-9aae-2c8e7ba15ea6",
   "metadata": {},
   "source": [
    "# Teil 2\n",
    "\n",
    "## Spacy Linguistic II\n",
    "\n",
    "Dieses Notebook enthält Aufgaben zur Vertiefung von SpaCy, vor allem in Bezug auf Visualisierungen und NER.\n",
    "\n",
    "Lernziele:  \n",
    "* Was sind POS Tags? Was ist ein Dependency Tree?\n",
    "* Wie kann ich Satzstrukturen visualisieren?\n",
    "* Wie kann man NER einsetzen? \n",
    "* Wie kann man strukturierte Daten speichern?\n",
    "* Was ist Entity Linking?"
   ]
  },
  {
   "cell_type": "markdown",
   "id": "845250f8-84e8-40fb-9e04-2e3572698e52",
   "metadata": {},
   "source": [
    "### Aufgabe 1\n",
    "\n",
    "Vertiefen Sie Ihr Wissen, indem Sie folgende Fragen beantworten:  \n",
    "\n",
    "* Was sind POS Tags? Wie gibt man diese in SpaCy aus?\n",
    "* Was ist der Dependency Tree? Wie gibt man Dependency Tags in SpaCy aus?\n",
    "* Was ist der Unterschied zwischen einem Tagger und einem Parser?\n",
    "* Was macht die SpaCy Pipeline?\n",
    "\n",
    "Nutzen Sie dazu folgende Links oder recherchieren Sie frei im Netz:  \n",
    "https://universaldependencies.org/u/pos/  \n",
    "https://spacy.io/usage/processing-pipelines\n",
    "\n",
    "Lassen Sie sich anschließend mit SpaCy ein Tag mittels der Methode `explain()` erklären. "
   ]
  },
  {
   "cell_type": "code",
   "execution_count": null,
   "id": "a31bb6c3-2a41-4c64-a1a5-bc0fce416b26",
   "metadata": {
    "tags": []
   },
   "outputs": [],
   "source": [
    "import spacy"
   ]
  },
  {
   "cell_type": "code",
   "execution_count": 6,
   "id": "287d33b4-4b24-4a7d-a7fb-1bbeb1a42684",
   "metadata": {
    "tags": []
   },
   "outputs": [
    {
     "data": {
      "text/plain": [
       "'subject'"
      ]
     },
     "execution_count": 6,
     "metadata": {},
     "output_type": "execute_result"
    }
   ],
   "source": [
    "spacy.explain('sb')"
   ]
  },
  {
   "cell_type": "markdown",
   "id": "4a9f80d3-ca53-407f-a2ab-86454d794e19",
   "metadata": {},
   "source": [
    "### Aufgabe 2 \n",
    "\n",
    "Laden Sie noch einmal den Text aus dem letzten Notebook ein (`../data/bpb.txt`).  \n",
    "Gehen Sie wie folgt vor: Importieren Sie SpaCy, laden Sie das Sprachmodell, öffnen Sie die Textdatei und laden Sie den Text ein und verarbeiten Sie den Text mit der `nlp()` Methode von SpaCy.  \n",
    "\n",
    "Hinweis: Sie haben alle diese Schritte bereits gemacht. Wenn Sie möchten, können Sie einfach copy+paste nutzen. Es empfiehlt sich jedoch, die Zeilen nochmal von Hand zu schreiben, um diese wiederkehrenden wichtigen Funktionen zu memorisieren."
   ]
  },
  {
   "cell_type": "code",
   "execution_count": 52,
   "id": "50a0a5a6-e581-4ed0-8be9-52b13ac2a836",
   "metadata": {
    "tags": []
   },
   "outputs": [],
   "source": [
    "nlp = spacy.load(\"de_core_news_md\")\n",
    "\n",
    "with open ('../Daten/bpb.txt') as f:\n",
    "    txt = f.read()\n",
    "doc = nlp(txt)"
   ]
  },
  {
   "cell_type": "markdown",
   "id": "a89a77ef-1015-455e-80f4-12aea5ac554d",
   "metadata": {},
   "source": [
    "### Aufgabe 3  \n",
    "\n",
    "Wir wollen uns nun auf den dritten Satz konzentrieren.  \n",
    "Sie sehen unten eine Möglichkeit, einen Satz in SpaCy anhand seiner Nummerierung zu extrahieren.  \n",
    "\n",
    "Erstellen Sie darunter nun eine leere Liste und fügen Sie dieser Liste für jedes Token aus dem Satz eine neue Liste mit folgenden Elementen hinzu:  \n",
    "`token, token.tag_, spacy.explain(token.tag_), token.dep_, spacy.explain(token.dep_)`\n",
    "\n",
    "Wie Sie sehen, wollen wir uns in dieser Liste auch immer die Tags und Dependencies von SpaCy erläutern lassen. "
   ]
  },
  {
   "cell_type": "code",
   "execution_count": 53,
   "id": "d951c74b-dbb1-4a51-98d0-e15acd70143a",
   "metadata": {
    "tags": []
   },
   "outputs": [],
   "source": [
    "# Diese Zelle wird NICHT bearbeitet\n",
    "sent = list(doc.sents)[2]"
   ]
  },
  {
   "cell_type": "code",
   "execution_count": 54,
   "id": "2c16c73b-b104-42f9-a838-3f27679284a7",
   "metadata": {
    "tags": []
   },
   "outputs": [],
   "source": [
    "tokens = []\n",
    "for token in sent:\n",
    "    tokens.append([token, token.tag_, spacy.explain(token.tag_), token.dep_, spacy.explain(token.dep_)])"
   ]
  },
  {
   "cell_type": "markdown",
   "id": "45d192fa-0da6-4f87-b17a-2105e88fb8d2",
   "metadata": {},
   "source": [
    "### Aufgabe 4\n",
    "\n",
    "Zur besseren Visualisierung von Tabellen nutzen wir die Python Library [Pandas](https://pandas.pydata.org/).  \n",
    "Sie können sich Pandas vorstellen, wie Excel für Entwickler. Pandas hat in etwa den Funktionalitäten einer Tabellenkalkulation, kann aber auch Daten analysieren und exportieren.  \n",
    "\n",
    "Wir beschränken uns hier auf die simplesten Pandas Funktionen.\n",
    "\n",
    "Installieren Sie Pandas mit dem Befehl `!pip install pandas` und importieren Sie es dann mit `import pandas as pd`.  \n",
    "(Die abkürzende Schreibweise \"pd\" hat sich etabliert, sie werden Sie daher in vielen Notebooks wiedererkennen).\n",
    "\n",
    "Rufen Sie dann die Funktion `DataFrame()` auf dem Objekt `pd` auf, übergeben Sie dieser Funktion ihre Liste mit Tokens und speichern Sie dies in einer Variablen.  \n",
    "Lassen Sie sich die Variable ausgeben.  \n",
    "\n",
    "Hinweis: Wenn Sie beim Ausgeben nicht die `print()` Funktionen nutzen, können Sie das verbesserte Rendering von Pandas in Jupyter einsetzen!  "
   ]
  },
  {
   "cell_type": "code",
   "execution_count": 55,
   "id": "2c819fab-91a3-4efa-9c3c-df8b346b2f99",
   "metadata": {},
   "outputs": [
    {
     "data": {
      "text/html": [
       "<div>\n",
       "<style scoped>\n",
       "    .dataframe tbody tr th:only-of-type {\n",
       "        vertical-align: middle;\n",
       "    }\n",
       "\n",
       "    .dataframe tbody tr th {\n",
       "        vertical-align: top;\n",
       "    }\n",
       "\n",
       "    .dataframe thead th {\n",
       "        text-align: right;\n",
       "    }\n",
       "</style>\n",
       "<table border=\"1\" class=\"dataframe\">\n",
       "  <thead>\n",
       "    <tr style=\"text-align: right;\">\n",
       "      <th></th>\n",
       "      <th>0</th>\n",
       "      <th>1</th>\n",
       "      <th>2</th>\n",
       "      <th>3</th>\n",
       "      <th>4</th>\n",
       "    </tr>\n",
       "  </thead>\n",
       "  <tbody>\n",
       "    <tr>\n",
       "      <th>0</th>\n",
       "      <td>Lehrer</td>\n",
       "      <td>NN</td>\n",
       "      <td>noun, singular or mass</td>\n",
       "      <td>sb</td>\n",
       "      <td>subject</td>\n",
       "    </tr>\n",
       "    <tr>\n",
       "      <th>1</th>\n",
       "      <td>Tom</td>\n",
       "      <td>NE</td>\n",
       "      <td>proper noun</td>\n",
       "      <td>pnc</td>\n",
       "      <td>proper noun component</td>\n",
       "    </tr>\n",
       "    <tr>\n",
       "      <th>2</th>\n",
       "      <td>Mittelbach</td>\n",
       "      <td>NE</td>\n",
       "      <td>proper noun</td>\n",
       "      <td>nk</td>\n",
       "      <td>noun kernel element</td>\n",
       "    </tr>\n",
       "    <tr>\n",
       "      <th>3</th>\n",
       "      <td>wagt</td>\n",
       "      <td>VVFIN</td>\n",
       "      <td>finite verb, full</td>\n",
       "      <td>ROOT</td>\n",
       "      <td>root</td>\n",
       "    </tr>\n",
       "    <tr>\n",
       "      <th>4</th>\n",
       "      <td>in</td>\n",
       "      <td>APPR</td>\n",
       "      <td>preposition; circumposition left</td>\n",
       "      <td>mo</td>\n",
       "      <td>modifier</td>\n",
       "    </tr>\n",
       "    <tr>\n",
       "      <th>5</th>\n",
       "      <td>seinem</td>\n",
       "      <td>PPOSAT</td>\n",
       "      <td>attributive possessive pronoun</td>\n",
       "      <td>nk</td>\n",
       "      <td>noun kernel element</td>\n",
       "    </tr>\n",
       "    <tr>\n",
       "      <th>6</th>\n",
       "      <td>Community-Beitrag</td>\n",
       "      <td>NN</td>\n",
       "      <td>noun, singular or mass</td>\n",
       "      <td>nk</td>\n",
       "      <td>noun kernel element</td>\n",
       "    </tr>\n",
       "    <tr>\n",
       "      <th>7</th>\n",
       "      <td>ein</td>\n",
       "      <td>ART</td>\n",
       "      <td>definite or indefinite article</td>\n",
       "      <td>nk</td>\n",
       "      <td>noun kernel element</td>\n",
       "    </tr>\n",
       "    <tr>\n",
       "      <th>8</th>\n",
       "      <td>Gedankenspiel</td>\n",
       "      <td>NN</td>\n",
       "      <td>noun, singular or mass</td>\n",
       "      <td>oa</td>\n",
       "      <td>accusative object</td>\n",
       "    </tr>\n",
       "    <tr>\n",
       "      <th>9</th>\n",
       "      <td>über</td>\n",
       "      <td>APPR</td>\n",
       "      <td>preposition; circumposition left</td>\n",
       "      <td>mnr</td>\n",
       "      <td>postnominal modifier</td>\n",
       "    </tr>\n",
       "    <tr>\n",
       "      <th>10</th>\n",
       "      <td>Bildung</td>\n",
       "      <td>NN</td>\n",
       "      <td>noun, singular or mass</td>\n",
       "      <td>nk</td>\n",
       "      <td>noun kernel element</td>\n",
       "    </tr>\n",
       "    <tr>\n",
       "      <th>11</th>\n",
       "      <td>an</td>\n",
       "      <td>APPR</td>\n",
       "      <td>preposition; circumposition left</td>\n",
       "      <td>mnr</td>\n",
       "      <td>postnominal modifier</td>\n",
       "    </tr>\n",
       "    <tr>\n",
       "      <th>12</th>\n",
       "      <td>der</td>\n",
       "      <td>ART</td>\n",
       "      <td>definite or indefinite article</td>\n",
       "      <td>nk</td>\n",
       "      <td>noun kernel element</td>\n",
       "    </tr>\n",
       "    <tr>\n",
       "      <th>13</th>\n",
       "      <td>Schnittstelle</td>\n",
       "      <td>NN</td>\n",
       "      <td>noun, singular or mass</td>\n",
       "      <td>nk</td>\n",
       "      <td>noun kernel element</td>\n",
       "    </tr>\n",
       "    <tr>\n",
       "      <th>14</th>\n",
       "      <td>von</td>\n",
       "      <td>APPR</td>\n",
       "      <td>preposition; circumposition left</td>\n",
       "      <td>pg</td>\n",
       "      <td>phrasal genitive</td>\n",
       "    </tr>\n",
       "    <tr>\n",
       "      <th>15</th>\n",
       "      <td>Mensch</td>\n",
       "      <td>NN</td>\n",
       "      <td>noun, singular or mass</td>\n",
       "      <td>nk</td>\n",
       "      <td>noun kernel element</td>\n",
       "    </tr>\n",
       "    <tr>\n",
       "      <th>16</th>\n",
       "      <td>und</td>\n",
       "      <td>KON</td>\n",
       "      <td>coordinate conjunction</td>\n",
       "      <td>cd</td>\n",
       "      <td>coordinating conjunction</td>\n",
       "    </tr>\n",
       "    <tr>\n",
       "      <th>17</th>\n",
       "      <td>Maschine</td>\n",
       "      <td>NN</td>\n",
       "      <td>noun, singular or mass</td>\n",
       "      <td>cj</td>\n",
       "      <td>conjunct</td>\n",
       "    </tr>\n",
       "    <tr>\n",
       "      <th>18</th>\n",
       "      <td>.</td>\n",
       "      <td>$.</td>\n",
       "      <td>sentence-final punctuation mark</td>\n",
       "      <td>punct</td>\n",
       "      <td>punctuation</td>\n",
       "    </tr>\n",
       "    <tr>\n",
       "      <th>19</th>\n",
       "      <td>\\n\\n</td>\n",
       "      <td>_SP</td>\n",
       "      <td>whitespace</td>\n",
       "      <td>dep</td>\n",
       "      <td>unclassified dependent</td>\n",
       "    </tr>\n",
       "  </tbody>\n",
       "</table>\n",
       "</div>"
      ],
      "text/plain": [
       "                    0       1                                 2      3  \\\n",
       "0              Lehrer      NN            noun, singular or mass     sb   \n",
       "1                 Tom      NE                       proper noun    pnc   \n",
       "2          Mittelbach      NE                       proper noun     nk   \n",
       "3                wagt   VVFIN                 finite verb, full   ROOT   \n",
       "4                  in    APPR  preposition; circumposition left     mo   \n",
       "5              seinem  PPOSAT    attributive possessive pronoun     nk   \n",
       "6   Community-Beitrag      NN            noun, singular or mass     nk   \n",
       "7                 ein     ART    definite or indefinite article     nk   \n",
       "8       Gedankenspiel      NN            noun, singular or mass     oa   \n",
       "9                über    APPR  preposition; circumposition left    mnr   \n",
       "10            Bildung      NN            noun, singular or mass     nk   \n",
       "11                 an    APPR  preposition; circumposition left    mnr   \n",
       "12                der     ART    definite or indefinite article     nk   \n",
       "13      Schnittstelle      NN            noun, singular or mass     nk   \n",
       "14                von    APPR  preposition; circumposition left     pg   \n",
       "15             Mensch      NN            noun, singular or mass     nk   \n",
       "16                und     KON            coordinate conjunction     cd   \n",
       "17           Maschine      NN            noun, singular or mass     cj   \n",
       "18                  .      $.   sentence-final punctuation mark  punct   \n",
       "19               \\n\\n     _SP                        whitespace    dep   \n",
       "\n",
       "                           4  \n",
       "0                    subject  \n",
       "1      proper noun component  \n",
       "2        noun kernel element  \n",
       "3                       root  \n",
       "4                   modifier  \n",
       "5        noun kernel element  \n",
       "6        noun kernel element  \n",
       "7        noun kernel element  \n",
       "8          accusative object  \n",
       "9       postnominal modifier  \n",
       "10       noun kernel element  \n",
       "11      postnominal modifier  \n",
       "12       noun kernel element  \n",
       "13       noun kernel element  \n",
       "14          phrasal genitive  \n",
       "15       noun kernel element  \n",
       "16  coordinating conjunction  \n",
       "17                  conjunct  \n",
       "18               punctuation  \n",
       "19    unclassified dependent  "
      ]
     },
     "execution_count": 55,
     "metadata": {},
     "output_type": "execute_result"
    }
   ],
   "source": [
    "#!pip install pandas\n",
    "import pandas as pd\n",
    "df = pd.DataFrame(tokens)\n",
    "df"
   ]
  },
  {
   "cell_type": "markdown",
   "id": "1d958db1-d256-4af9-a334-08ebb646641b",
   "metadata": {},
   "source": [
    "### Aufgabe 5\n",
    "\n",
    "Um einen Überblick über die Satzstruktur zu erhalten, hilft es, sich den Dependency Tree graphisch anzeigen zu lassen.  \n",
    "Spacy besitzt eigene Visualizer, die dies ermöglichen.  \n",
    "\n",
    "Importieren Sie das Modul \"displacy\" und nutzen Sie die Methode `render()` um den Tree anzeigen zu lassen.  \n",
    "Alle Infos dazu finden Sie auf: https://spacy.io/usage/visualizers#jupyter\n",
    "\n",
    "Optional:  \n",
    "Vergleichen Sie den Dependency Parser ihres SpaCy Sprachmodells mit dem von https://pub.cl.uzh.ch/demo/parzu/.  \n",
    "Was fällt Ihnen auf?  "
   ]
  },
  {
   "cell_type": "code",
   "execution_count": 56,
   "id": "ad2d5ff2-27fc-4b80-92b7-770990431c8c",
   "metadata": {
    "tags": []
   },
   "outputs": [
    {
     "data": {
      "text/html": [
       "<span class=\"tex2jax_ignore\"><svg xmlns=\"http://www.w3.org/2000/svg\" xmlns:xlink=\"http://www.w3.org/1999/xlink\" xml:lang=\"de\" id=\"6a9c31d7642643659991bb59b37611f9-0\" class=\"displacy\" width=\"3375\" height=\"487.0\" direction=\"ltr\" style=\"max-width: none; height: 487.0px; color: #000000; background: #ffffff; font-family: Arial; direction: ltr\">\n",
       "<text class=\"displacy-token\" fill=\"currentColor\" text-anchor=\"middle\" y=\"397.0\">\n",
       "    <tspan class=\"displacy-word\" fill=\"currentColor\" x=\"50\">Lehrer</tspan>\n",
       "    <tspan class=\"displacy-tag\" dy=\"2em\" fill=\"currentColor\" x=\"50\">NOUN</tspan>\n",
       "</text>\n",
       "\n",
       "<text class=\"displacy-token\" fill=\"currentColor\" text-anchor=\"middle\" y=\"397.0\">\n",
       "    <tspan class=\"displacy-word\" fill=\"currentColor\" x=\"225\">Tom</tspan>\n",
       "    <tspan class=\"displacy-tag\" dy=\"2em\" fill=\"currentColor\" x=\"225\">PROPN</tspan>\n",
       "</text>\n",
       "\n",
       "<text class=\"displacy-token\" fill=\"currentColor\" text-anchor=\"middle\" y=\"397.0\">\n",
       "    <tspan class=\"displacy-word\" fill=\"currentColor\" x=\"400\">Mittelbach</tspan>\n",
       "    <tspan class=\"displacy-tag\" dy=\"2em\" fill=\"currentColor\" x=\"400\">PROPN</tspan>\n",
       "</text>\n",
       "\n",
       "<text class=\"displacy-token\" fill=\"currentColor\" text-anchor=\"middle\" y=\"397.0\">\n",
       "    <tspan class=\"displacy-word\" fill=\"currentColor\" x=\"575\">wagt</tspan>\n",
       "    <tspan class=\"displacy-tag\" dy=\"2em\" fill=\"currentColor\" x=\"575\">VERB</tspan>\n",
       "</text>\n",
       "\n",
       "<text class=\"displacy-token\" fill=\"currentColor\" text-anchor=\"middle\" y=\"397.0\">\n",
       "    <tspan class=\"displacy-word\" fill=\"currentColor\" x=\"750\">in</tspan>\n",
       "    <tspan class=\"displacy-tag\" dy=\"2em\" fill=\"currentColor\" x=\"750\">ADP</tspan>\n",
       "</text>\n",
       "\n",
       "<text class=\"displacy-token\" fill=\"currentColor\" text-anchor=\"middle\" y=\"397.0\">\n",
       "    <tspan class=\"displacy-word\" fill=\"currentColor\" x=\"925\">seinem</tspan>\n",
       "    <tspan class=\"displacy-tag\" dy=\"2em\" fill=\"currentColor\" x=\"925\">DET</tspan>\n",
       "</text>\n",
       "\n",
       "<text class=\"displacy-token\" fill=\"currentColor\" text-anchor=\"middle\" y=\"397.0\">\n",
       "    <tspan class=\"displacy-word\" fill=\"currentColor\" x=\"1100\">Community-Beitrag</tspan>\n",
       "    <tspan class=\"displacy-tag\" dy=\"2em\" fill=\"currentColor\" x=\"1100\">NOUN</tspan>\n",
       "</text>\n",
       "\n",
       "<text class=\"displacy-token\" fill=\"currentColor\" text-anchor=\"middle\" y=\"397.0\">\n",
       "    <tspan class=\"displacy-word\" fill=\"currentColor\" x=\"1275\">ein</tspan>\n",
       "    <tspan class=\"displacy-tag\" dy=\"2em\" fill=\"currentColor\" x=\"1275\">DET</tspan>\n",
       "</text>\n",
       "\n",
       "<text class=\"displacy-token\" fill=\"currentColor\" text-anchor=\"middle\" y=\"397.0\">\n",
       "    <tspan class=\"displacy-word\" fill=\"currentColor\" x=\"1450\">Gedankenspiel</tspan>\n",
       "    <tspan class=\"displacy-tag\" dy=\"2em\" fill=\"currentColor\" x=\"1450\">NOUN</tspan>\n",
       "</text>\n",
       "\n",
       "<text class=\"displacy-token\" fill=\"currentColor\" text-anchor=\"middle\" y=\"397.0\">\n",
       "    <tspan class=\"displacy-word\" fill=\"currentColor\" x=\"1625\">über</tspan>\n",
       "    <tspan class=\"displacy-tag\" dy=\"2em\" fill=\"currentColor\" x=\"1625\">ADP</tspan>\n",
       "</text>\n",
       "\n",
       "<text class=\"displacy-token\" fill=\"currentColor\" text-anchor=\"middle\" y=\"397.0\">\n",
       "    <tspan class=\"displacy-word\" fill=\"currentColor\" x=\"1800\">Bildung</tspan>\n",
       "    <tspan class=\"displacy-tag\" dy=\"2em\" fill=\"currentColor\" x=\"1800\">NOUN</tspan>\n",
       "</text>\n",
       "\n",
       "<text class=\"displacy-token\" fill=\"currentColor\" text-anchor=\"middle\" y=\"397.0\">\n",
       "    <tspan class=\"displacy-word\" fill=\"currentColor\" x=\"1975\">an</tspan>\n",
       "    <tspan class=\"displacy-tag\" dy=\"2em\" fill=\"currentColor\" x=\"1975\">ADP</tspan>\n",
       "</text>\n",
       "\n",
       "<text class=\"displacy-token\" fill=\"currentColor\" text-anchor=\"middle\" y=\"397.0\">\n",
       "    <tspan class=\"displacy-word\" fill=\"currentColor\" x=\"2150\">der</tspan>\n",
       "    <tspan class=\"displacy-tag\" dy=\"2em\" fill=\"currentColor\" x=\"2150\">DET</tspan>\n",
       "</text>\n",
       "\n",
       "<text class=\"displacy-token\" fill=\"currentColor\" text-anchor=\"middle\" y=\"397.0\">\n",
       "    <tspan class=\"displacy-word\" fill=\"currentColor\" x=\"2325\">Schnittstelle</tspan>\n",
       "    <tspan class=\"displacy-tag\" dy=\"2em\" fill=\"currentColor\" x=\"2325\">NOUN</tspan>\n",
       "</text>\n",
       "\n",
       "<text class=\"displacy-token\" fill=\"currentColor\" text-anchor=\"middle\" y=\"397.0\">\n",
       "    <tspan class=\"displacy-word\" fill=\"currentColor\" x=\"2500\">von</tspan>\n",
       "    <tspan class=\"displacy-tag\" dy=\"2em\" fill=\"currentColor\" x=\"2500\">ADP</tspan>\n",
       "</text>\n",
       "\n",
       "<text class=\"displacy-token\" fill=\"currentColor\" text-anchor=\"middle\" y=\"397.0\">\n",
       "    <tspan class=\"displacy-word\" fill=\"currentColor\" x=\"2675\">Mensch</tspan>\n",
       "    <tspan class=\"displacy-tag\" dy=\"2em\" fill=\"currentColor\" x=\"2675\">NOUN</tspan>\n",
       "</text>\n",
       "\n",
       "<text class=\"displacy-token\" fill=\"currentColor\" text-anchor=\"middle\" y=\"397.0\">\n",
       "    <tspan class=\"displacy-word\" fill=\"currentColor\" x=\"2850\">und</tspan>\n",
       "    <tspan class=\"displacy-tag\" dy=\"2em\" fill=\"currentColor\" x=\"2850\">CCONJ</tspan>\n",
       "</text>\n",
       "\n",
       "<text class=\"displacy-token\" fill=\"currentColor\" text-anchor=\"middle\" y=\"397.0\">\n",
       "    <tspan class=\"displacy-word\" fill=\"currentColor\" x=\"3025\">Maschine.</tspan>\n",
       "    <tspan class=\"displacy-tag\" dy=\"2em\" fill=\"currentColor\" x=\"3025\">PUNCT</tspan>\n",
       "</text>\n",
       "\n",
       "<text class=\"displacy-token\" fill=\"currentColor\" text-anchor=\"middle\" y=\"397.0\">\n",
       "    <tspan class=\"displacy-word\" fill=\"currentColor\" x=\"3200\">\n",
       "\n",
       "</tspan>\n",
       "    <tspan class=\"displacy-tag\" dy=\"2em\" fill=\"currentColor\" x=\"3200\">SPACE</tspan>\n",
       "</text>\n",
       "\n",
       "<g class=\"displacy-arrow\">\n",
       "    <path class=\"displacy-arc\" id=\"arrow-6a9c31d7642643659991bb59b37611f9-0-0\" stroke-width=\"2px\" d=\"M70,352.0 C70,89.5 570.0,89.5 570.0,352.0\" fill=\"none\" stroke=\"currentColor\"/>\n",
       "    <text dy=\"1.25em\" style=\"font-size: 0.8em; letter-spacing: 1px\">\n",
       "        <textPath xlink:href=\"#arrow-6a9c31d7642643659991bb59b37611f9-0-0\" class=\"displacy-label\" startOffset=\"50%\" side=\"left\" fill=\"currentColor\" text-anchor=\"middle\">sb</textPath>\n",
       "    </text>\n",
       "    <path class=\"displacy-arrowhead\" d=\"M70,354.0 L62,342.0 78,342.0\" fill=\"currentColor\"/>\n",
       "</g>\n",
       "\n",
       "<g class=\"displacy-arrow\">\n",
       "    <path class=\"displacy-arc\" id=\"arrow-6a9c31d7642643659991bb59b37611f9-0-1\" stroke-width=\"2px\" d=\"M245,352.0 C245,264.5 385.0,264.5 385.0,352.0\" fill=\"none\" stroke=\"currentColor\"/>\n",
       "    <text dy=\"1.25em\" style=\"font-size: 0.8em; letter-spacing: 1px\">\n",
       "        <textPath xlink:href=\"#arrow-6a9c31d7642643659991bb59b37611f9-0-1\" class=\"displacy-label\" startOffset=\"50%\" side=\"left\" fill=\"currentColor\" text-anchor=\"middle\">pnc</textPath>\n",
       "    </text>\n",
       "    <path class=\"displacy-arrowhead\" d=\"M245,354.0 L237,342.0 253,342.0\" fill=\"currentColor\"/>\n",
       "</g>\n",
       "\n",
       "<g class=\"displacy-arrow\">\n",
       "    <path class=\"displacy-arc\" id=\"arrow-6a9c31d7642643659991bb59b37611f9-0-2\" stroke-width=\"2px\" d=\"M70,352.0 C70,177.0 390.0,177.0 390.0,352.0\" fill=\"none\" stroke=\"currentColor\"/>\n",
       "    <text dy=\"1.25em\" style=\"font-size: 0.8em; letter-spacing: 1px\">\n",
       "        <textPath xlink:href=\"#arrow-6a9c31d7642643659991bb59b37611f9-0-2\" class=\"displacy-label\" startOffset=\"50%\" side=\"left\" fill=\"currentColor\" text-anchor=\"middle\">nk</textPath>\n",
       "    </text>\n",
       "    <path class=\"displacy-arrowhead\" d=\"M390.0,354.0 L398.0,342.0 382.0,342.0\" fill=\"currentColor\"/>\n",
       "</g>\n",
       "\n",
       "<g class=\"displacy-arrow\">\n",
       "    <path class=\"displacy-arc\" id=\"arrow-6a9c31d7642643659991bb59b37611f9-0-3\" stroke-width=\"2px\" d=\"M595,352.0 C595,264.5 735.0,264.5 735.0,352.0\" fill=\"none\" stroke=\"currentColor\"/>\n",
       "    <text dy=\"1.25em\" style=\"font-size: 0.8em; letter-spacing: 1px\">\n",
       "        <textPath xlink:href=\"#arrow-6a9c31d7642643659991bb59b37611f9-0-3\" class=\"displacy-label\" startOffset=\"50%\" side=\"left\" fill=\"currentColor\" text-anchor=\"middle\">mo</textPath>\n",
       "    </text>\n",
       "    <path class=\"displacy-arrowhead\" d=\"M735.0,354.0 L743.0,342.0 727.0,342.0\" fill=\"currentColor\"/>\n",
       "</g>\n",
       "\n",
       "<g class=\"displacy-arrow\">\n",
       "    <path class=\"displacy-arc\" id=\"arrow-6a9c31d7642643659991bb59b37611f9-0-4\" stroke-width=\"2px\" d=\"M945,352.0 C945,264.5 1085.0,264.5 1085.0,352.0\" fill=\"none\" stroke=\"currentColor\"/>\n",
       "    <text dy=\"1.25em\" style=\"font-size: 0.8em; letter-spacing: 1px\">\n",
       "        <textPath xlink:href=\"#arrow-6a9c31d7642643659991bb59b37611f9-0-4\" class=\"displacy-label\" startOffset=\"50%\" side=\"left\" fill=\"currentColor\" text-anchor=\"middle\">nk</textPath>\n",
       "    </text>\n",
       "    <path class=\"displacy-arrowhead\" d=\"M945,354.0 L937,342.0 953,342.0\" fill=\"currentColor\"/>\n",
       "</g>\n",
       "\n",
       "<g class=\"displacy-arrow\">\n",
       "    <path class=\"displacy-arc\" id=\"arrow-6a9c31d7642643659991bb59b37611f9-0-5\" stroke-width=\"2px\" d=\"M770,352.0 C770,177.0 1090.0,177.0 1090.0,352.0\" fill=\"none\" stroke=\"currentColor\"/>\n",
       "    <text dy=\"1.25em\" style=\"font-size: 0.8em; letter-spacing: 1px\">\n",
       "        <textPath xlink:href=\"#arrow-6a9c31d7642643659991bb59b37611f9-0-5\" class=\"displacy-label\" startOffset=\"50%\" side=\"left\" fill=\"currentColor\" text-anchor=\"middle\">nk</textPath>\n",
       "    </text>\n",
       "    <path class=\"displacy-arrowhead\" d=\"M1090.0,354.0 L1098.0,342.0 1082.0,342.0\" fill=\"currentColor\"/>\n",
       "</g>\n",
       "\n",
       "<g class=\"displacy-arrow\">\n",
       "    <path class=\"displacy-arc\" id=\"arrow-6a9c31d7642643659991bb59b37611f9-0-6\" stroke-width=\"2px\" d=\"M1295,352.0 C1295,264.5 1435.0,264.5 1435.0,352.0\" fill=\"none\" stroke=\"currentColor\"/>\n",
       "    <text dy=\"1.25em\" style=\"font-size: 0.8em; letter-spacing: 1px\">\n",
       "        <textPath xlink:href=\"#arrow-6a9c31d7642643659991bb59b37611f9-0-6\" class=\"displacy-label\" startOffset=\"50%\" side=\"left\" fill=\"currentColor\" text-anchor=\"middle\">nk</textPath>\n",
       "    </text>\n",
       "    <path class=\"displacy-arrowhead\" d=\"M1295,354.0 L1287,342.0 1303,342.0\" fill=\"currentColor\"/>\n",
       "</g>\n",
       "\n",
       "<g class=\"displacy-arrow\">\n",
       "    <path class=\"displacy-arc\" id=\"arrow-6a9c31d7642643659991bb59b37611f9-0-7\" stroke-width=\"2px\" d=\"M595,352.0 C595,89.5 1445.0,89.5 1445.0,352.0\" fill=\"none\" stroke=\"currentColor\"/>\n",
       "    <text dy=\"1.25em\" style=\"font-size: 0.8em; letter-spacing: 1px\">\n",
       "        <textPath xlink:href=\"#arrow-6a9c31d7642643659991bb59b37611f9-0-7\" class=\"displacy-label\" startOffset=\"50%\" side=\"left\" fill=\"currentColor\" text-anchor=\"middle\">oa</textPath>\n",
       "    </text>\n",
       "    <path class=\"displacy-arrowhead\" d=\"M1445.0,354.0 L1453.0,342.0 1437.0,342.0\" fill=\"currentColor\"/>\n",
       "</g>\n",
       "\n",
       "<g class=\"displacy-arrow\">\n",
       "    <path class=\"displacy-arc\" id=\"arrow-6a9c31d7642643659991bb59b37611f9-0-8\" stroke-width=\"2px\" d=\"M1470,352.0 C1470,264.5 1610.0,264.5 1610.0,352.0\" fill=\"none\" stroke=\"currentColor\"/>\n",
       "    <text dy=\"1.25em\" style=\"font-size: 0.8em; letter-spacing: 1px\">\n",
       "        <textPath xlink:href=\"#arrow-6a9c31d7642643659991bb59b37611f9-0-8\" class=\"displacy-label\" startOffset=\"50%\" side=\"left\" fill=\"currentColor\" text-anchor=\"middle\">mnr</textPath>\n",
       "    </text>\n",
       "    <path class=\"displacy-arrowhead\" d=\"M1610.0,354.0 L1618.0,342.0 1602.0,342.0\" fill=\"currentColor\"/>\n",
       "</g>\n",
       "\n",
       "<g class=\"displacy-arrow\">\n",
       "    <path class=\"displacy-arc\" id=\"arrow-6a9c31d7642643659991bb59b37611f9-0-9\" stroke-width=\"2px\" d=\"M1645,352.0 C1645,264.5 1785.0,264.5 1785.0,352.0\" fill=\"none\" stroke=\"currentColor\"/>\n",
       "    <text dy=\"1.25em\" style=\"font-size: 0.8em; letter-spacing: 1px\">\n",
       "        <textPath xlink:href=\"#arrow-6a9c31d7642643659991bb59b37611f9-0-9\" class=\"displacy-label\" startOffset=\"50%\" side=\"left\" fill=\"currentColor\" text-anchor=\"middle\">nk</textPath>\n",
       "    </text>\n",
       "    <path class=\"displacy-arrowhead\" d=\"M1785.0,354.0 L1793.0,342.0 1777.0,342.0\" fill=\"currentColor\"/>\n",
       "</g>\n",
       "\n",
       "<g class=\"displacy-arrow\">\n",
       "    <path class=\"displacy-arc\" id=\"arrow-6a9c31d7642643659991bb59b37611f9-0-10\" stroke-width=\"2px\" d=\"M1820,352.0 C1820,264.5 1960.0,264.5 1960.0,352.0\" fill=\"none\" stroke=\"currentColor\"/>\n",
       "    <text dy=\"1.25em\" style=\"font-size: 0.8em; letter-spacing: 1px\">\n",
       "        <textPath xlink:href=\"#arrow-6a9c31d7642643659991bb59b37611f9-0-10\" class=\"displacy-label\" startOffset=\"50%\" side=\"left\" fill=\"currentColor\" text-anchor=\"middle\">mnr</textPath>\n",
       "    </text>\n",
       "    <path class=\"displacy-arrowhead\" d=\"M1960.0,354.0 L1968.0,342.0 1952.0,342.0\" fill=\"currentColor\"/>\n",
       "</g>\n",
       "\n",
       "<g class=\"displacy-arrow\">\n",
       "    <path class=\"displacy-arc\" id=\"arrow-6a9c31d7642643659991bb59b37611f9-0-11\" stroke-width=\"2px\" d=\"M2170,352.0 C2170,264.5 2310.0,264.5 2310.0,352.0\" fill=\"none\" stroke=\"currentColor\"/>\n",
       "    <text dy=\"1.25em\" style=\"font-size: 0.8em; letter-spacing: 1px\">\n",
       "        <textPath xlink:href=\"#arrow-6a9c31d7642643659991bb59b37611f9-0-11\" class=\"displacy-label\" startOffset=\"50%\" side=\"left\" fill=\"currentColor\" text-anchor=\"middle\">nk</textPath>\n",
       "    </text>\n",
       "    <path class=\"displacy-arrowhead\" d=\"M2170,354.0 L2162,342.0 2178,342.0\" fill=\"currentColor\"/>\n",
       "</g>\n",
       "\n",
       "<g class=\"displacy-arrow\">\n",
       "    <path class=\"displacy-arc\" id=\"arrow-6a9c31d7642643659991bb59b37611f9-0-12\" stroke-width=\"2px\" d=\"M1995,352.0 C1995,177.0 2315.0,177.0 2315.0,352.0\" fill=\"none\" stroke=\"currentColor\"/>\n",
       "    <text dy=\"1.25em\" style=\"font-size: 0.8em; letter-spacing: 1px\">\n",
       "        <textPath xlink:href=\"#arrow-6a9c31d7642643659991bb59b37611f9-0-12\" class=\"displacy-label\" startOffset=\"50%\" side=\"left\" fill=\"currentColor\" text-anchor=\"middle\">nk</textPath>\n",
       "    </text>\n",
       "    <path class=\"displacy-arrowhead\" d=\"M2315.0,354.0 L2323.0,342.0 2307.0,342.0\" fill=\"currentColor\"/>\n",
       "</g>\n",
       "\n",
       "<g class=\"displacy-arrow\">\n",
       "    <path class=\"displacy-arc\" id=\"arrow-6a9c31d7642643659991bb59b37611f9-0-13\" stroke-width=\"2px\" d=\"M2345,352.0 C2345,264.5 2485.0,264.5 2485.0,352.0\" fill=\"none\" stroke=\"currentColor\"/>\n",
       "    <text dy=\"1.25em\" style=\"font-size: 0.8em; letter-spacing: 1px\">\n",
       "        <textPath xlink:href=\"#arrow-6a9c31d7642643659991bb59b37611f9-0-13\" class=\"displacy-label\" startOffset=\"50%\" side=\"left\" fill=\"currentColor\" text-anchor=\"middle\">pg</textPath>\n",
       "    </text>\n",
       "    <path class=\"displacy-arrowhead\" d=\"M2485.0,354.0 L2493.0,342.0 2477.0,342.0\" fill=\"currentColor\"/>\n",
       "</g>\n",
       "\n",
       "<g class=\"displacy-arrow\">\n",
       "    <path class=\"displacy-arc\" id=\"arrow-6a9c31d7642643659991bb59b37611f9-0-14\" stroke-width=\"2px\" d=\"M2520,352.0 C2520,264.5 2660.0,264.5 2660.0,352.0\" fill=\"none\" stroke=\"currentColor\"/>\n",
       "    <text dy=\"1.25em\" style=\"font-size: 0.8em; letter-spacing: 1px\">\n",
       "        <textPath xlink:href=\"#arrow-6a9c31d7642643659991bb59b37611f9-0-14\" class=\"displacy-label\" startOffset=\"50%\" side=\"left\" fill=\"currentColor\" text-anchor=\"middle\">nk</textPath>\n",
       "    </text>\n",
       "    <path class=\"displacy-arrowhead\" d=\"M2660.0,354.0 L2668.0,342.0 2652.0,342.0\" fill=\"currentColor\"/>\n",
       "</g>\n",
       "\n",
       "<g class=\"displacy-arrow\">\n",
       "    <path class=\"displacy-arc\" id=\"arrow-6a9c31d7642643659991bb59b37611f9-0-15\" stroke-width=\"2px\" d=\"M2695,352.0 C2695,264.5 2835.0,264.5 2835.0,352.0\" fill=\"none\" stroke=\"currentColor\"/>\n",
       "    <text dy=\"1.25em\" style=\"font-size: 0.8em; letter-spacing: 1px\">\n",
       "        <textPath xlink:href=\"#arrow-6a9c31d7642643659991bb59b37611f9-0-15\" class=\"displacy-label\" startOffset=\"50%\" side=\"left\" fill=\"currentColor\" text-anchor=\"middle\">cd</textPath>\n",
       "    </text>\n",
       "    <path class=\"displacy-arrowhead\" d=\"M2835.0,354.0 L2843.0,342.0 2827.0,342.0\" fill=\"currentColor\"/>\n",
       "</g>\n",
       "\n",
       "<g class=\"displacy-arrow\">\n",
       "    <path class=\"displacy-arc\" id=\"arrow-6a9c31d7642643659991bb59b37611f9-0-16\" stroke-width=\"2px\" d=\"M595,352.0 C595,2.0 3025.0,2.0 3025.0,352.0\" fill=\"none\" stroke=\"currentColor\"/>\n",
       "    <text dy=\"1.25em\" style=\"font-size: 0.8em; letter-spacing: 1px\">\n",
       "        <textPath xlink:href=\"#arrow-6a9c31d7642643659991bb59b37611f9-0-16\" class=\"displacy-label\" startOffset=\"50%\" side=\"left\" fill=\"currentColor\" text-anchor=\"middle\">punct</textPath>\n",
       "    </text>\n",
       "    <path class=\"displacy-arrowhead\" d=\"M3025.0,354.0 L3033.0,342.0 3017.0,342.0\" fill=\"currentColor\"/>\n",
       "</g>\n",
       "\n",
       "<g class=\"displacy-arrow\">\n",
       "    <path class=\"displacy-arc\" id=\"arrow-6a9c31d7642643659991bb59b37611f9-0-17\" stroke-width=\"2px\" d=\"M3045,352.0 C3045,264.5 3185.0,264.5 3185.0,352.0\" fill=\"none\" stroke=\"currentColor\"/>\n",
       "    <text dy=\"1.25em\" style=\"font-size: 0.8em; letter-spacing: 1px\">\n",
       "        <textPath xlink:href=\"#arrow-6a9c31d7642643659991bb59b37611f9-0-17\" class=\"displacy-label\" startOffset=\"50%\" side=\"left\" fill=\"currentColor\" text-anchor=\"middle\">dep</textPath>\n",
       "    </text>\n",
       "    <path class=\"displacy-arrowhead\" d=\"M3185.0,354.0 L3193.0,342.0 3177.0,342.0\" fill=\"currentColor\"/>\n",
       "</g>\n",
       "</svg></span>"
      ],
      "text/plain": [
       "<IPython.core.display.HTML object>"
      ]
     },
     "metadata": {},
     "output_type": "display_data"
    }
   ],
   "source": [
    "from spacy import displacy\n",
    "displacy.render(sent, style=\"dep\")"
   ]
  },
  {
   "cell_type": "markdown",
   "id": "efc5c179-7d43-4c1c-b8af-1cfacf15be30",
   "metadata": {},
   "source": [
    "### Aufgabe 6\n",
    "\n",
    "Lassen Sie sich nun mittels des Attributs `ents` die verschienden Entities des Textes ausgeben, die SpaCy mit dem Modell gefunden hat.  "
   ]
  },
  {
   "cell_type": "code",
   "execution_count": 57,
   "id": "72f7e350-9100-436e-9526-1732ad8c53a5",
   "metadata": {
    "tags": []
   },
   "outputs": [
    {
     "data": {
      "text/html": [
       "<div>\n",
       "<style scoped>\n",
       "    .dataframe tbody tr th:only-of-type {\n",
       "        vertical-align: middle;\n",
       "    }\n",
       "\n",
       "    .dataframe tbody tr th {\n",
       "        vertical-align: top;\n",
       "    }\n",
       "\n",
       "    .dataframe thead th {\n",
       "        text-align: right;\n",
       "    }\n",
       "</style>\n",
       "<table border=\"1\" class=\"dataframe\">\n",
       "  <thead>\n",
       "    <tr style=\"text-align: right;\">\n",
       "      <th></th>\n",
       "      <th>0</th>\n",
       "      <th>1</th>\n",
       "      <th>2</th>\n",
       "      <th>3</th>\n",
       "    </tr>\n",
       "  </thead>\n",
       "  <tbody>\n",
       "    <tr>\n",
       "      <th>0</th>\n",
       "      <td>Tom Mittelbach</td>\n",
       "      <td>203</td>\n",
       "      <td>217</td>\n",
       "      <td>PER</td>\n",
       "    </tr>\n",
       "    <tr>\n",
       "      <th>1</th>\n",
       "      <td>Community-Beitrag</td>\n",
       "      <td>233</td>\n",
       "      <td>250</td>\n",
       "      <td>MISC</td>\n",
       "    </tr>\n",
       "    <tr>\n",
       "      <th>2</th>\n",
       "      <td>Computern</td>\n",
       "      <td>348</td>\n",
       "      <td>357</td>\n",
       "      <td>MISC</td>\n",
       "    </tr>\n",
       "    <tr>\n",
       "      <th>3</th>\n",
       "      <td>Tages</td>\n",
       "      <td>469</td>\n",
       "      <td>474</td>\n",
       "      <td>MISC</td>\n",
       "    </tr>\n",
       "    <tr>\n",
       "      <th>4</th>\n",
       "      <td>Englischen AI/Artificial Intelligence</td>\n",
       "      <td>586</td>\n",
       "      <td>623</td>\n",
       "      <td>MISC</td>\n",
       "    </tr>\n",
       "    <tr>\n",
       "      <th>...</th>\n",
       "      <td>...</td>\n",
       "      <td>...</td>\n",
       "      <td>...</td>\n",
       "      <td>...</td>\n",
       "    </tr>\n",
       "    <tr>\n",
       "      <th>62</th>\n",
       "      <td>Zeit</td>\n",
       "      <td>10642</td>\n",
       "      <td>10646</td>\n",
       "      <td>MISC</td>\n",
       "    </tr>\n",
       "    <tr>\n",
       "      <th>63</th>\n",
       "      <td>KI</td>\n",
       "      <td>11030</td>\n",
       "      <td>11032</td>\n",
       "      <td>MISC</td>\n",
       "    </tr>\n",
       "    <tr>\n",
       "      <th>64</th>\n",
       "      <td>soziale</td>\n",
       "      <td>11103</td>\n",
       "      <td>11110</td>\n",
       "      <td>MISC</td>\n",
       "    </tr>\n",
       "    <tr>\n",
       "      <th>65</th>\n",
       "      <td>deutschen</td>\n",
       "      <td>11153</td>\n",
       "      <td>11162</td>\n",
       "      <td>MISC</td>\n",
       "    </tr>\n",
       "    <tr>\n",
       "      <th>66</th>\n",
       "      <td>Gerhard Roth</td>\n",
       "      <td>11177</td>\n",
       "      <td>11189</td>\n",
       "      <td>PER</td>\n",
       "    </tr>\n",
       "  </tbody>\n",
       "</table>\n",
       "<p>67 rows × 4 columns</p>\n",
       "</div>"
      ],
      "text/plain": [
       "                                        0      1      2     3\n",
       "0                          Tom Mittelbach    203    217   PER\n",
       "1                       Community-Beitrag    233    250  MISC\n",
       "2                               Computern    348    357  MISC\n",
       "3                                   Tages    469    474  MISC\n",
       "4   Englischen AI/Artificial Intelligence    586    623  MISC\n",
       "..                                    ...    ...    ...   ...\n",
       "62                                   Zeit  10642  10646  MISC\n",
       "63                                     KI  11030  11032  MISC\n",
       "64                                soziale  11103  11110  MISC\n",
       "65                              deutschen  11153  11162  MISC\n",
       "66                           Gerhard Roth  11177  11189   PER\n",
       "\n",
       "[67 rows x 4 columns]"
      ]
     },
     "execution_count": 57,
     "metadata": {},
     "output_type": "execute_result"
    }
   ],
   "source": [
    "ents= []\n",
    "for ent in doc.ents:\n",
    "    ents.append([ent.text, ent.start_char, ent.end_char, ent.label_])\n",
    "    \n",
    "# example is using pandas for table view\n",
    "import pandas as pd\n",
    "df = pd.DataFrame(ents)\n",
    "df"
   ]
  },
  {
   "cell_type": "markdown",
   "id": "9e78d049-2d01-419c-b408-a73dd9c8a64a",
   "metadata": {},
   "source": [
    "### Aufgabe 7\n",
    "\n",
    "Nutzen Sie noch einmal den Renderer von SpaCy um sich entweder die Named Entities des gesamten Dokuments oder nur die aus dem Satz `sent` anzeigen zu lassen. Sie können dafür wieder die Methode `render()` verwenden, müssen jedoch dem Parameter `style` den String \"ent\" übergeben, um Entities anzuzeigen."
   ]
  },
  {
   "cell_type": "code",
   "execution_count": 58,
   "id": "d0e29d16-db69-4a75-9210-28da5bcca9fd",
   "metadata": {
    "tags": []
   },
   "outputs": [
    {
     "data": {
      "text/html": [
       "<span class=\"tex2jax_ignore\"><div class=\"entities\" style=\"line-height: 2.5; direction: ltr\">Lehrer \n",
       "<mark class=\"entity\" style=\"background: #ddd; padding: 0.45em 0.6em; margin: 0 0.25em; line-height: 1; border-radius: 0.35em;\">\n",
       "    Tom Mittelbach\n",
       "    <span style=\"font-size: 0.8em; font-weight: bold; line-height: 1; border-radius: 0.35em; vertical-align: middle; margin-left: 0.5rem\">PER</span>\n",
       "</mark>\n",
       " wagt in seinem \n",
       "<mark class=\"entity\" style=\"background: #ddd; padding: 0.45em 0.6em; margin: 0 0.25em; line-height: 1; border-radius: 0.35em;\">\n",
       "    Community-Beitrag\n",
       "    <span style=\"font-size: 0.8em; font-weight: bold; line-height: 1; border-radius: 0.35em; vertical-align: middle; margin-left: 0.5rem\">MISC</span>\n",
       "</mark>\n",
       " ein Gedankenspiel über Bildung an der Schnittstelle von Mensch und Maschine.</br></br></div></span>"
      ],
      "text/plain": [
       "<IPython.core.display.HTML object>"
      ]
     },
     "metadata": {},
     "output_type": "display_data"
    }
   ],
   "source": [
    "displacy.render(sent, style=\"ent\")"
   ]
  },
  {
   "cell_type": "markdown",
   "id": "e2e480a0-a992-4975-851a-42b60281675e",
   "metadata": {},
   "source": [
    "### Aufgabe 8\n",
    "\n",
    "Ihr Dataframe mit den Entites können Sie mit dem simplen Aufruf von `to_csv()` unter der Angabe eines Dateinamens in eine CSV-Datei exportieren.  "
   ]
  },
  {
   "cell_type": "code",
   "execution_count": 59,
   "id": "d9440133-a820-4894-b81c-3cc88d0ae5a9",
   "metadata": {
    "tags": []
   },
   "outputs": [],
   "source": [
    "df.to_csv('entities.csv')"
   ]
  },
  {
   "cell_type": "markdown",
   "id": "f920fb0d-b8da-4702-a0b4-ef549fd17fa3",
   "metadata": {},
   "source": [
    "### Abschlussaufgabe\n",
    "\n",
    "In vielen Fällen ist es sinnvoll, die gefundenen Entities mit Normdaten zu verknüpfen.  \n",
    "Dazu werden die gefundenen Strings mit einer Knowledge Base, etwa Wikidata, abgeglichen.  \n",
    "\n",
    "Wir nutzen in diesem Fall eine simplere Schnittstelle namens Lobid, um die Normdaten zu holen.  \n",
    "\n",
    "Im folgenden sehen Sie zwei Funktionen, die Sie nutzen können.  \n",
    "Die Funktionen rufen eine URL aus dem Netz auf. In dieser URL steckt ein String aus ihrer Entity-Liste, hier \"query\" genannt.  \n",
    "Unter Angabe dieser Query gibt Lobid die Treffer im JSON Format zurück.  \n",
    "\n",
    "Rufen Sie Funktion `show_lobid()` mit einer passenden Query auf, etwa dem Namen einer Person oder eines Ortes aus ihrer Liste.\n",
    "\n",
    "Optional: Holen Sie diese Daten automatisch aus ihrer Liste aus Entities.  \n",
    "Optionaler: Verarbeiten Sie ALLE ihre Entities mittels einer Schleife und lassen Sie sich die JSON Ergebnisse anzeigen.  \n",
    "\n",
    "Hinweis: Sie machen in diesem Fall echte(!) Anfragen über das Internet an eine Schnittstelle. In der Regel sollten Sie es hierbei nicht übertreiben. Viele Schnittstellen haben Timeouts oder erwarten sogenannte Zugriffstokens, um sich vor zu vielen Anfragen zu schützen. "
   ]
  },
  {
   "cell_type": "code",
   "execution_count": 60,
   "id": "abb181e3-3955-4da0-a23c-e32038ea82c0",
   "metadata": {
    "tags": []
   },
   "outputs": [],
   "source": [
    "# Diese Zelle wird NICHT bearbeitet\n",
    "import requests\n",
    "from IPython.display import JSON, display\n",
    "\n",
    "def get_lobid(query):\n",
    "    url = f'https://lobid.org/gnd/search?q={query}&format=json'\n",
    "    response = requests.get(url)\n",
    "    return response.json()\n",
    "\n",
    "def show_lobid(query):\n",
    "    data = get_lobid(query)\n",
    "    display(JSON(data))"
   ]
  },
  {
   "cell_type": "code",
   "execution_count": 62,
   "id": "b1a7e087-6300-4be8-9a57-46dd54aba9f5",
   "metadata": {
    "tags": []
   },
   "outputs": [
    {
     "data": {
      "application/json": {
       "@context": "https://lobid.org/gnd/context.jsonld",
       "aggregation": {
        "dateOfBirth": [],
        "geographicAreaCode.id": [
         {
          "doc_count": 1,
          "key": "https://d-nb.info/standards/vocab/gnd/geographic-area-code#XA-DE"
         }
        ],
        "gndSubjectCategory.id": [],
        "professionOrOccupation.id": [
         {
          "doc_count": 1,
          "key": "https://d-nb.info/gnd/4015479-8"
         },
         {
          "doc_count": 1,
          "key": "https://d-nb.info/gnd/4035088-5"
         }
        ],
        "type": [
         {
          "doc_count": 1,
          "key": "DifferentiatedPerson"
         },
         {
          "doc_count": 1,
          "key": "Person"
         }
        ]
       },
       "id": "https://lobid.org/gnd/search?q=Tom%20Mittelbach%20&format=json",
       "member": [
        {
         "@context": "http://lobid.org/gnd/context.jsonld",
         "biographicalOrHistoricalInformation": [
          "Fachwirt für Sozialwesen"
         ],
         "describedBy": {
          "dateModified": "2021-01-16T05:34:31.000",
          "descriptionLevel": {
           "id": "https://d-nb.info/standards/vocab/gnd/description-level#3",
           "label": "Religion"
          },
          "id": "https://d-nb.info/gnd/1225148677/about",
          "license": {
           "id": "http://creativecommons.org/publicdomain/zero/1.0/",
           "label": "http://creativecommons.org/publicdomain/zero/1.0/"
          }
         },
         "gender": [
          {
           "id": "https://d-nb.info/standards/vocab/gnd/gender#male",
           "label": "Männlich"
          }
         ],
         "geographicAreaCode": [
          {
           "id": "https://d-nb.info/standards/vocab/gnd/geographic-area-code#XA-DE",
           "label": "Deutschland"
          }
         ],
         "gndIdentifier": "1225148677",
         "id": "https://d-nb.info/gnd/1225148677",
         "preferredName": "Mittelbach, Tom",
         "preferredNameEntityForThePerson": {
          "forename": [
           "Tom"
          ],
          "surname": [
           "Mittelbach"
          ]
         },
         "professionOrOccupation": [
          {
           "id": "https://d-nb.info/gnd/4035088-5",
           "label": "Lehrer"
          },
          {
           "id": "https://d-nb.info/gnd/4015479-8",
           "label": "Erzieher"
          }
         ],
         "sameAs": [
          {
           "collection": {
            "abbr": "VIAF",
            "icon": "http://viaf.org/viaf/images/viaf.ico",
            "id": "http://www.wikidata.org/entity/Q54919",
            "name": "Virtual International Authority File (VIAF)",
            "publisher": "OCLC"
           },
           "id": "http://viaf.org/viaf/3161149791634942708"
          },
          {
           "collection": {
            "abbr": "DNB",
            "icon": "https://www.dnb.de/SiteGlobals/Frontend/DNBWeb/Images/favicon.png?__blob=normal&v=4",
            "id": "http://www.wikidata.org/entity/Q36578",
            "name": "Gemeinsame Normdatei (GND) im Katalog der Deutschen Nationalbibliothek",
            "publisher": "Deutsche Nationalbibliothek"
           },
           "id": "https://d-nb.info/gnd/1225148677/about"
          },
          {
           "collection": {
            "abbr": "DDB",
            "icon": "https://www.deutsche-digitale-bibliothek.de/favicon.ico",
            "id": "http://www.wikidata.org/entity/Q621630",
            "name": "Deutsche Digitale Bibliothek",
            "publisher": "Deutsche Digitale Bibliothek"
           },
           "id": "https://www.deutsche-digitale-bibliothek.de/person/gnd/1225148677"
          }
         ],
         "type": [
          "Person",
          "AuthorityResource",
          "DifferentiatedPerson"
         ]
        }
       ],
       "totalItems": 1
      },
      "text/plain": [
       "<IPython.core.display.JSON object>"
      ]
     },
     "metadata": {
      "application/json": {
       "expanded": false,
       "root": "root"
      }
     },
     "output_type": "display_data"
    }
   ],
   "source": [
    "show_lobid('Tom Mittelbach ')"
   ]
  }
 ],
 "metadata": {
  "kernelspec": {
   "display_name": "Python 3 (ipykernel)",
   "language": "python",
   "name": "python3"
  },
  "language_info": {
   "codemirror_mode": {
    "name": "ipython",
    "version": 3
   },
   "file_extension": ".py",
   "mimetype": "text/x-python",
   "name": "python",
   "nbconvert_exporter": "python",
   "pygments_lexer": "ipython3",
   "version": "3.10.8"
  }
 },
 "nbformat": 4,
 "nbformat_minor": 5
}
