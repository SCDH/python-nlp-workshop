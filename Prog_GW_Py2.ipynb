{
 "cells": [
  {
   "cell_type": "markdown",
   "id": "b548150e-e77b-4aa0-b021-36d2135bdabe",
   "metadata": {},
   "source": [
    "# Aufgabe 1\n",
    "\n",
    "Machen Sie sich mit dem Jupyter Notebook vertraut\n",
    "Ein solches Notebook enthält einen Python-Interpreter und verschiedene Zellen\n",
    "Die Zellen können mit Text und/oder Code befüllt werden.\n",
    "Jede Zelle, die Code enthält kann *einzeln* ausgeführt werden.\n",
    "Das erste Beispiel zeigt eine einfache Print-Anweisung, die \"Hello World\" ausgibt.\n",
    "Führen Sie die Zelle aus.\n",
    "Fügen Sie eine weitere Zelle hinzu\n",
    "Die Zelle soll einen Kommentar enthalten (eingeleitet mit #) und ausführbaren Code enthalten. (s. Beispiel)\n",
    "Führen Sie die Zelle über das Play-Symbol in der oberen Leiste aus"
   ]
  },
  {
   "cell_type": "markdown",
   "id": "0fb5ce41-c3cc-42db-95bd-6735d7c3bb9f",
   "metadata": {},
   "source": [
    "# Ziele/Learnings Aufgabe 1\n",
    "\n",
    "* Sicherstellen, dass alle Zugriff auf den Jupyter-Hub der WWU haben\n",
    "* Sicherstellen, dass alle einen Interpreter ausgewählt haben usw.\n",
    "* Einführung des Konzepts \"Ausführbare Zellen)"
   ]
  },
  {
   "cell_type": "code",
   "execution_count": 1,
   "id": "6a68b84f-1336-46ea-bc3f-b6d94252241c",
   "metadata": {
    "ExecuteTime": {
     "end_time": "2023-05-22T12:56:22.757896302Z",
     "start_time": "2023-05-22T12:56:22.739099379Z"
    }
   },
   "outputs": [
    {
     "data": {
      "text/plain": "'Hello World'"
     },
     "execution_count": 1,
     "metadata": {},
     "output_type": "execute_result"
    }
   ],
   "source": [
    "# Beispiel zu Aufgabe 1\n",
    "\"Hello World\""
   ]
  },
  {
   "cell_type": "code",
   "execution_count": 4,
   "id": "b382d838-921f-440d-9218-24bc6fa2ccd9",
   "metadata": {
    "tags": []
   },
   "outputs": [
    {
     "name": "stdout",
     "output_type": "stream",
     "text": [
      "Hello World\n"
     ]
    }
   ],
   "source": [
    "print(\"Hello World\")"
   ]
  },
  {
   "cell_type": "markdown",
   "id": "6ad79205-3766-4fe4-b3e4-6613ccd8ebae",
   "metadata": {},
   "source": [
    "# Aufgabe 2\n",
    "Öffnen Sie die Datei \"bpb.txt\" im Ordner \"data\" unter Benutzung der Funktionen open() und read()"
   ]
  },
  {
   "cell_type": "markdown",
   "id": "89f1879f-c19a-473d-8a5e-f48ccc781688",
   "metadata": {},
   "source": [
    "# Ziele/Learnings Aufgabe 2\n",
    "* Hinführung zu Aufgabe 3"
   ]
  },
  {
   "cell_type": "code",
   "execution_count": 8,
   "id": "bed40fa8-f3e0-47f7-af6f-22eb6b8f7424",
   "metadata": {
    "tags": []
   },
   "outputs": [],
   "source": [
    "with open(\"data/bpb.txt\") as f:\n",
    "          fulltext = f.read()\n",
    "        \n",
    "#print(fulltext)\n",
    "#fulltext"
   ]
  },
  {
   "cell_type": "markdown",
   "id": "3cc974ad-ce25-46e3-8361-985f98b7909c",
   "metadata": {},
   "source": [
    "# Notizen\n",
    "Was unterscheidet die direkte Rückgabe von Print-Rückgabe?\n",
    "print wandelt die Rückgabe immer in einen String um\n",
    "ohne print wird direkt ausgegeben was reinkommt, dh ohne print werden zb steuerungsbefehle direkt mit ausgegeben\n",
    "bei print erfolgt wie man das erwartet formatierung ohne anzeige der steuerzeichen\n"
   ]
  },
  {
   "cell_type": "markdown",
   "id": "515d673a-ca84-4c31-9b21-7f95cce78fde",
   "metadata": {
    "tags": []
   },
   "source": [
    "# Aufgabe 3\n",
    "\n"
   ]
  },
  {
   "cell_type": "markdown",
   "id": "572f8ea6-ed22-43e1-9fe7-2d922d8fb98e",
   "metadata": {},
   "source": [
    "# Ziele/Learnings Aufgabe 3\n",
    "\n",
    "* Öffnen mehrerer Dateien in einem Ordner\n",
    "* Pfadangaben\n",
    "* Wildcards\n",
    "\n",
    "# Mögliche typische Fehler\n",
    "\n",
    "filename lesen <-> file object lesen\n",
    "'str' object has no attribute 'read'\n",
    "\n",
    "\n",
    "TypeError: can only concatenate str (not \"builtin_function_or_method\") to str\n",
    "Klammern hinter read() vergessen\n"
   ]
  },
  {
   "cell_type": "code",
   "execution_count": 18,
   "id": "109798e5-f4c6-403e-9919-aa9d6e2b6633",
   "metadata": {
    "tags": []
   },
   "outputs": [],
   "source": [
    "from glob import glob\n",
    "\n",
    "filelist = glob(\"data/*.txt\")\n",
    "fulltext = \"\"\n",
    "for file in filelist:\n",
    "    with open(file) as f:\n",
    "        bla = f.read()\n",
    "        fulltext = fulltext + bla        \n",
    "# print(fulltext)"
   ]
  },
  {
   "cell_type": "markdown",
   "id": "3d42aa79-c660-4e8f-947c-aa35759ce363",
   "metadata": {},
   "source": [
    "# Aufgabe 4\n",
    "\n",
    "Tabellen einlesen"
   ]
  },
  {
   "cell_type": "code",
   "execution_count": 6,
   "id": "0cdc5b54-3e38-44f8-8831-039752564539",
   "metadata": {
    "tags": []
   },
   "outputs": [],
   "source": [
    "with open(\"data/tweets.csv\") as f:\n",
    "    my_chart = f.read()\n",
    "       \n",
    "# print(my_chart)"
   ]
  },
  {
   "cell_type": "markdown",
   "id": "28412355-0774-4174-8cb9-1b654e0b6cd9",
   "metadata": {},
   "source": [
    "# Aufgabe 5\n",
    "Erste Datenaufbereitung\n",
    "Zeilenumbruch finden\n",
    "In eine Liste von Zeilen umwandeln\n",
    "Tip: mein_string.split(chr(10))\n",
    "Erläuterung Unicode Zeilenend-Zeichen\n",
    "Testausgabe erster Eintrag Liste\n",
    "Tip: zeilenliste[0]\n"
   ]
  },
  {
   "cell_type": "markdown",
   "id": "c4d112ef-5704-43af-af31-de4546fa847e",
   "metadata": {},
   "source": [
    "# Ziele/Learnings Aufgabe 5\n",
    "\n",
    "* Erste Datenaufbereitung\n",
    "* Nutzung von UTF-8-Codes\n",
    "* Arbeit mit Tabellen\n",
    "* Text extrahieren aus Tabellen\n"
   ]
  },
  {
   "cell_type": "code",
   "execution_count": 11,
   "id": "38f83c32-78f8-42ca-a5fc-18271118d2e9",
   "metadata": {
    "tags": []
   },
   "outputs": [
    {
     "name": "stdout",
     "output_type": "stream",
     "text": [
      "1467822519,Mon Apr 06 22:22:49 PDT 2009,gzacher,Ugh....92 degrees tomorrow \n"
     ]
    }
   ],
   "source": [
    "zeilenliste = my_chart.split(chr(10))\n",
    "\n",
    "# print(zeilenliste)\n",
    "print(zeilenliste[0])"
   ]
  },
  {
   "cell_type": "markdown",
   "id": "7d64485b-0ed7-4b98-84f0-ea12e173a32f",
   "metadata": {},
   "source": [
    "# Aufgabe 6\n",
    "An Kommata trennen\n",
    "\n",
    "(Mini-Einführung RegEx)"
   ]
  },
  {
   "cell_type": "markdown",
   "id": "9b291871-def9-4124-aff6-0bb2669ae77f",
   "metadata": {},
   "source": [
    "# Ziele/Learnings Aufgabe 6\n",
    "* split()\n",
    "* Umgang mit Listen\n",
    "* Datenaufbereitung\n",
    "* list.append()"
   ]
  },
  {
   "cell_type": "code",
   "execution_count": 28,
   "id": "1b944553-4607-4bab-999f-acf7243cabc4",
   "metadata": {
    "tags": []
   },
   "outputs": [
    {
     "name": "stdout",
     "output_type": "stream",
     "text": [
      "['1467822519', 'Mon Apr 06 22:22:49 PDT 2009', 'gzacher', 'Ugh....92 degrees tomorrow ']\n"
     ]
    }
   ],
   "source": [
    "li = []\n",
    "for zeile in zeilenliste:\n",
    "    zwliste = zeile.split(\",\")\n",
    "    li.append(zwliste)\n",
    "    \n",
    "# print(li)\n",
    "print(li[0])"
   ]
  },
  {
   "cell_type": "code",
   "execution_count": null,
   "id": "284a7527-6f92-48fb-8160-19d1fd381410",
   "metadata": {},
   "outputs": [],
   "source": [
    "# Man sieht jetzt 4 Einträge pro Unterliste\n",
    "# Uns interessiert nur der letzte"
   ]
  },
  {
   "cell_type": "markdown",
   "id": "8cb1a08e-73af-43a0-8371-de170b85367c",
   "metadata": {},
   "source": [
    "# Aufgabe 7\n"
   ]
  },
  {
   "cell_type": "markdown",
   "id": "f8dcbc78-fd55-4fdf-a14d-6dc94361f824",
   "metadata": {},
   "source": [
    "# Ziele/Learnings Aufgabe 7\n",
    "\n",
    "* Bestimmte Elemente aus Liste extrahieren und zusammenführen\n",
    "* geschachtelter Listenzugriff (mehrdimensionale Arrays)"
   ]
  },
  {
   "cell_type": "code",
   "execution_count": null,
   "id": "71916e64-8526-434f-a1bf-90cc4fc80e81",
   "metadata": {},
   "outputs": [],
   "source": []
  },
  {
   "cell_type": "markdown",
   "id": "9fb09607-3ac6-4f01-8651-edd499f4052d",
   "metadata": {},
   "source": [
    "# Aufgabe x\n",
    "Kleine Änderung und dann in files schreiben\n",
    "einmal .txt, einmal .csv?"
   ]
  },
  {
   "cell_type": "raw",
   "id": "cdf6a8a2-d338-4505-a11c-b163602c8641",
   "metadata": {},
   "source": [
    "Abschnitt 3\n",
    "\n",
    "Basic Textbearbeitung/Bereinigung\n",
    "tweets trennen an zeilenumbrüchen?\n",
    "minimum regex brauchen wir"
   ]
  },
  {
   "cell_type": "code",
   "execution_count": null,
   "id": "a919ddee-5fd8-4a4b-a210-f7e66f770370",
   "metadata": {},
   "outputs": [],
   "source": []
  }
 ],
 "metadata": {
  "kernelspec": {
   "display_name": "Python 3 (ipykernel)",
   "language": "python",
   "name": "python3"
  },
  "language_info": {
   "codemirror_mode": {
    "name": "ipython",
    "version": 3
   },
   "file_extension": ".py",
   "mimetype": "text/x-python",
   "name": "python",
   "nbconvert_exporter": "python",
   "pygments_lexer": "ipython3",
   "version": "3.10.8"
  },
  "toc-autonumbering": false
 },
 "nbformat": 4,
 "nbformat_minor": 5
}
