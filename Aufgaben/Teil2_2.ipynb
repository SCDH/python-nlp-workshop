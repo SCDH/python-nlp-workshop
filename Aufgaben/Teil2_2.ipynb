{
 "cells": [
  {
   "cell_type": "markdown",
   "id": "03705eda-ad6f-40df-9aae-2c8e7ba15ea6",
   "metadata": {},
   "source": [
    "# Teil 2\n",
    "\n",
    "## Spacy Linguistic II\n",
    "\n",
    "Dieses Notebook enthält Aufgaben zur Vertiefung von SpaCy, vor allem in Bezug auf Visualisierungen und NER.\n",
    "\n",
    "Lernziele:  \n",
    "* Was sind POS Tags? Was ist ein Dependency Tree?\n",
    "* Wie kann ich Satzstrukturen visualisieren?\n",
    "* Wie kann man NER einsetzen? \n",
    "* Wie kann man strukturierte Daten speichern?\n",
    "* Was ist Entity Linking?"
   ]
  },
  {
   "cell_type": "markdown",
   "id": "845250f8-84e8-40fb-9e04-2e3572698e52",
   "metadata": {},
   "source": [
    "### Aufgabe 1\n",
    "\n",
    "Vertiefen Sie Ihr Wissen, indem Sie folgende Fragen beantworten:  \n",
    "\n",
    "* Was sind POS Tags? Wie gibt man diese in SpaCy aus?\n",
    "* Was ist der Dependency Tree? Wie gibt man Dependency Tags in SpaCy aus?\n",
    "* Was ist der Unterschied zwischen einem Tagger und einem Parser?\n",
    "* Was macht die SpaCy Pipeline?\n",
    "\n",
    "Nutzen Sie dazu folgende Links oder recherchieren Sie frei im Netz:  \n",
    "https://universaldependencies.org/u/pos/  \n",
    "https://spacy.io/usage/processing-pipelines\n",
    "\n",
    "Lassen Sie sich anschließend mit SpaCy ein Tag mittels der Methode `explain()` erklären. "
   ]
  },
  {
   "cell_type": "code",
   "execution_count": null,
   "id": "287d33b4-4b24-4a7d-a7fb-1bbeb1a42684",
   "metadata": {
    "tags": []
   },
   "outputs": [],
   "source": [
    "# Hier kommt Ihr Code hin"
   ]
  },
  {
   "cell_type": "markdown",
   "id": "4a9f80d3-ca53-407f-a2ab-86454d794e19",
   "metadata": {},
   "source": [
    "### Aufgabe 2 \n",
    "\n",
    "Laden Sie noch einmal den Text aus dem letzten Notebook ein (`../data/bpb.txt`).  \n",
    "Gehen Sie wie folgt vor: Importieren Sie SpaCy, laden Sie das Sprachmodell, öffnen Sie die Textdatei und laden Sie den Text ein und verarbeiten Sie den Text mit der `nlp()` Methode von SpaCy.  \n",
    "\n",
    "Hinweis: Sie haben alle diese Schritte bereits gemacht. Wenn Sie möchten, können Sie einfach copy+paste nutzen. Es empfiehlt sich jedoch, die Zeilen nochmal von Hand zu schreiben, um diese wiederkehrenden wichtigen Funktionen zu memorisieren."
   ]
  },
  {
   "cell_type": "code",
   "execution_count": null,
   "id": "50a0a5a6-e581-4ed0-8be9-52b13ac2a836",
   "metadata": {
    "tags": []
   },
   "outputs": [],
   "source": [
    "# Hier kommt Ihr Code hin"
   ]
  },
  {
   "cell_type": "markdown",
   "id": "a89a77ef-1015-455e-80f4-12aea5ac554d",
   "metadata": {},
   "source": [
    "### Aufgabe 3  \n",
    "\n",
    "Wir wollen uns nun auf den dritten Satz konzentrieren.  \n",
    "Sie sehen unten eine Möglichkeit, einen Satz in SpaCy anhand seiner Nummerierung zu extrahieren.  \n",
    "\n",
    "Erstellen Sie darunter nun eine leere Liste und fügen Sie dieser Liste für jedes Token aus dem Satz eine neue Liste mit folgenden Elementen hinzu:  \n",
    "`token, token.tag_, spacy.explain(token.tag_), token.dep_, spacy.explain(token.dep_)`\n",
    "\n",
    "Wie Sie sehen, wollen wir uns in dieser Liste auch immer die Tags und Dependencies von SpaCy erläutern lassen. "
   ]
  },
  {
   "cell_type": "code",
   "execution_count": null,
   "id": "d951c74b-dbb1-4a51-98d0-e15acd70143a",
   "metadata": {
    "tags": []
   },
   "outputs": [],
   "source": [
    "# Diese Zelle wird NICHT bearbeitet\n",
    "sent = list(doc.sents)[2]"
   ]
  },
  {
   "cell_type": "code",
   "execution_count": null,
   "id": "2c16c73b-b104-42f9-a838-3f27679284a7",
   "metadata": {
    "tags": []
   },
   "outputs": [],
   "source": [
    "# Hier kommt Ihr Code hin"
   ]
  },
  {
   "cell_type": "markdown",
   "id": "45d192fa-0da6-4f87-b17a-2105e88fb8d2",
   "metadata": {},
   "source": [
    "### Aufgabe 4\n",
    "\n",
    "Zur besseren Visualisierung von Tabellen nutzen wir die Python Library [Pandas](https://pandas.pydata.org/).  \n",
    "Sie können sich Pandas vorstellen, wie Excel für Entwickler. Pandas hat in etwa den Funktionalitäten einer Tabellenkalkulation, kann aber auch Daten analysieren und exportieren.  \n",
    "\n",
    "Wir beschränken uns hier auf die simplesten Pandas Funktionen.\n",
    "\n",
    "Installieren Sie Pandas mit dem Befehl `!pip install pandas` und importieren Sie es dann mit `import pandas as pd`.  \n",
    "(Die abkürzende Schreibweise \"pd\" hat sich etabliert, sie werden Sie daher in vielen Notebooks wiedererkennen).\n",
    "\n",
    "Rufen Sie dann die Funktion `DataFrame()` auf dem Objekt `pd` auf, übergeben Sie dieser Funktion ihre Liste mit Tokens und speichern Sie dies in einer Variablen.  \n",
    "Lassen Sie sich die Variable ausgeben.  \n",
    "\n",
    "Hinweis: Wenn Sie beim Ausgeben nicht die `print()` Funktionen nutzen, können Sie das verbesserte Rendering von Pandas in Jupyter einsetzen!  "
   ]
  },
  {
   "cell_type": "code",
   "execution_count": null,
   "id": "2c819fab-91a3-4efa-9c3c-df8b346b2f99",
   "metadata": {},
   "outputs": [],
   "source": [
    "# Hier kommt Ihr Code hin"
   ]
  },
  {
   "cell_type": "markdown",
   "id": "1d958db1-d256-4af9-a334-08ebb646641b",
   "metadata": {},
   "source": [
    "### Aufgabe 5\n",
    "\n",
    "Um einen Überblick über die Satzstruktur zu erhalten, hilft es, sich den Dependency Tree graphisch anzeigen zu lassen.  \n",
    "Spacy besitzt eigene Visualizer, die dies ermöglichen.  \n",
    "\n",
    "Importieren Sie das Modul \"displacy\" und nutzen Sie die Methode `render()` um den Tree anzeigen zu lassen.  \n",
    "Alle Infos dazu finden Sie auf: https://spacy.io/usage/visualizers#jupyter\n",
    "\n",
    "Optional:  \n",
    "Vergleichen Sie den Dependency Parser ihres SpaCy Sprachmodells mit dem von https://pub.cl.uzh.ch/demo/parzu/.  \n",
    "Was fällt Ihnen auf?  "
   ]
  },
  {
   "cell_type": "code",
   "execution_count": null,
   "id": "ad2d5ff2-27fc-4b80-92b7-770990431c8c",
   "metadata": {
    "tags": []
   },
   "outputs": [],
   "source": [
    "# Hier kommt Ihr Code hin"
   ]
  },
  {
   "cell_type": "markdown",
   "id": "efc5c179-7d43-4c1c-b8af-1cfacf15be30",
   "metadata": {},
   "source": [
    "### Aufgabe 6\n",
    "\n",
    "Lassen Sie sich nun mittels des Attributs `ents` die verschienden Entities des Textes ausgeben, die SpaCy mit dem Modell gefunden hat.  "
   ]
  },
  {
   "cell_type": "code",
   "execution_count": null,
   "id": "72f7e350-9100-436e-9526-1732ad8c53a5",
   "metadata": {
    "tags": []
   },
   "outputs": [],
   "source": [
    "# Hier kommt Ihr Code hin"
   ]
  },
  {
   "cell_type": "markdown",
   "id": "9e78d049-2d01-419c-b408-a73dd9c8a64a",
   "metadata": {},
   "source": [
    "### Aufgabe 7\n",
    "\n",
    "Nutzen Sie noch einmal den Renderer von SpaCy um sich entweder die Named Entities des gesamten Dokuments oder nur die aus dem Satz `sent` anzeigen zu lassen. Sie können dafür wieder die Methode `render()` verwenden, müssen jedoch dem Parameter `style` den String \"ent\" übergeben, um Entities anzuzeigen."
   ]
  },
  {
   "cell_type": "code",
   "execution_count": null,
   "id": "d0e29d16-db69-4a75-9210-28da5bcca9fd",
   "metadata": {
    "tags": []
   },
   "outputs": [],
   "source": [
    "# Hier kommt Ihr Code hin"
   ]
  },
  {
   "cell_type": "markdown",
   "id": "e2e480a0-a992-4975-851a-42b60281675e",
   "metadata": {},
   "source": [
    "### Aufgabe 8\n",
    "\n",
    "Ihr Dataframe mit den Entites können Sie mit dem simplen Aufruf von `to_csv()` unter der Angabe eines Dateinamens in eine CSV-Datei exportieren.  "
   ]
  },
  {
   "cell_type": "code",
   "execution_count": null,
   "id": "d9440133-a820-4894-b81c-3cc88d0ae5a9",
   "metadata": {
    "tags": []
   },
   "outputs": [],
   "source": [
    "# Hier kommt Ihr Code hin"
   ]
  },
  {
   "cell_type": "markdown",
   "id": "f920fb0d-b8da-4702-a0b4-ef549fd17fa3",
   "metadata": {},
   "source": [
    "### Abschlussaufgabe\n",
    "\n",
    "In vielen Fällen ist es sinnvoll, die gefundenen Entities mit Normdaten zu verknüpfen.  \n",
    "Dazu werden die gefundenen Strings mit einer Knowledge Base, etwa Wikidata, abgeglichen.  \n",
    "\n",
    "Wir nutzen in diesem Fall eine simplere Schnittstelle namens Lobid, um die Normdaten zu holen.  \n",
    "\n",
    "Im folgenden sehen Sie zwei Funktionen, die Sie nutzen können.  \n",
    "Die Funktionen rufen eine URL aus dem Netz auf. In dieser URL steckt ein String aus ihrer Entity-Liste, hier \"query\" genannt.  \n",
    "Unter Angabe dieser Query gibt Lobid die Treffer im JSON Format zurück.  \n",
    "\n",
    "Rufen Sie Funktion `show_lobid()` mit einer passenden Query auf, etwa dem Namen einer Person oder eines Ortes aus ihrer Liste.\n",
    "\n",
    "Optional: Holen Sie diese Daten automatisch aus ihrer Liste aus Entities.  \n",
    "Optionaler: Verarbeiten Sie ALLE ihre Entities mittels einer Schleife und lassen Sie sich die JSON Ergebnisse anzeigen.  \n",
    "\n",
    "Hinweis: Sie machen in diesem Fall echte(!) Anfragen über das Internet an eine Schnittstelle. In der Regel sollten Sie es hierbei nicht übertreiben. Viele Schnittstellen haben Timeouts oder erwarten sogenannte Zugriffstokens, um sich vor zu vielen Anfragen zu schützen. "
   ]
  },
  {
   "cell_type": "code",
   "execution_count": null,
   "id": "abb181e3-3955-4da0-a23c-e32038ea82c0",
   "metadata": {
    "tags": []
   },
   "outputs": [],
   "source": [
    "# Diese Zelle wird NICHT bearbeitet\n",
    "import requests\n",
    "from IPython.display import JSON, display\n",
    "\n",
    "def get_lobid(query):\n",
    "    url = f'https://lobid.org/gnd/search?q={query}&format=json'\n",
    "    response = requests.get(url)\n",
    "    return response.json()\n",
    "\n",
    "def show_lobid(query):\n",
    "    data = get_lobid(query)\n",
    "    display(JSON(data))"
   ]
  },
  {
   "cell_type": "code",
   "execution_count": null,
   "id": "b1a7e087-6300-4be8-9a57-46dd54aba9f5",
   "metadata": {
    "tags": []
   },
   "outputs": [],
   "source": [
    "# Hier kommt Ihr Code hin"
   ]
  }
 ],
 "metadata": {
  "kernelspec": {
   "display_name": "Python 3 (ipykernel)",
   "language": "python",
   "name": "python3"
  },
  "language_info": {
   "codemirror_mode": {
    "name": "ipython",
    "version": 3
   },
   "file_extension": ".py",
   "mimetype": "text/x-python",
   "name": "python",
   "nbconvert_exporter": "python",
   "pygments_lexer": "ipython3",
   "version": "3.10.8"
  }
 },
 "nbformat": 4,
 "nbformat_minor": 5
}
