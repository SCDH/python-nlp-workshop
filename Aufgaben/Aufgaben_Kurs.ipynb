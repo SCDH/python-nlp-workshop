{
 "cells": [
  {
   "cell_type": "code",
   "execution_count": null,
   "outputs": [],
   "source": [
    "# Block 1 Dateien öffnen und einlesen"
   ],
   "metadata": {
    "collapsed": false
   }
  },
  {
   "cell_type": "markdown",
   "source": [
    "# Aufgabe 1\n",
    "\n",
    "- Machen Sie sich mit dem Jupyter Notebook vertraut.\n",
    "- Das erste Beispiel zeigt eine einfache Print-Anweisung, die \"Hello World\" ausgibt.\n",
    "- Führen Sie die Zelle aus.\n",
    "- Fügen Sie eine weitere Zelle hinzu\n",
    "- Die Zelle soll einen Kommentar enthalten (eingeleitet mit #) und ausführbaren Code enthalten. (s. Beispiel)\n",
    "- Führen Sie die Zelle über das Play-Symbol in der oberen Leiste aus"
   ],
   "metadata": {
    "collapsed": false
   }
  },
  {
   "cell_type": "markdown",
   "source": [
    "# Infos zu Aufgabe 1\n",
    "\n",
    "Ein Jupyter Notebook enthält einen Python-Interpreter und verschiedene Zellen.\n",
    "Die Zellen können mit Text und/oder Code befüllt werden.\n",
    "Jede Zelle, die Code enthält kann *einzeln* oder in einer Reihe mit anderen Zellen ausgeführt werden."
   ],
   "metadata": {
    "collapsed": false
   }
  },
  {
   "cell_type": "code",
   "execution_count": null,
   "outputs": [],
   "source": [
    "# Beispiel zu Aufgabe 1\n",
    "print(\"Hello World\")"
   ],
   "metadata": {
    "collapsed": false
   }
  },
  {
   "cell_type": "markdown",
   "source": [
    "# Aufgabe 2\n",
    "Öffnen Sie die Datei \"bpb.txt\" im Ordner \"data\" unter Benutzung der Funktionen open() und read()"
   ],
   "metadata": {
    "collapsed": false
   }
  },
  {
   "cell_type": "code",
   "execution_count": null,
   "outputs": [],
   "source": [
    "# Lösung Aufgabe 2"
   ],
   "metadata": {
    "collapsed": false
   }
  },
  {
   "cell_type": "markdown",
   "source": [
    "# Aufgabe 3\n",
    "\n",
    "Lesen Sie alle .txt-Dateien im Ordner \"data\" ein.\n"
   ],
   "metadata": {
    "collapsed": false
   }
  },
  {
   "cell_type": "markdown",
   "source": [
    "# Infos zu Aufgabe 3\n",
    "\n",
    "from glob import glob\n",
    "Asterisk benutzen"
   ],
   "metadata": {
    "collapsed": false
   }
  },
  {
   "cell_type": "code",
   "execution_count": null,
   "outputs": [],
   "source": [
    "# Lösung Aufgabe 3\n",
    "\n"
   ],
   "metadata": {
    "collapsed": false
   }
  },
  {
   "cell_type": "markdown",
   "source": [
    "# Aufgabe 4\n",
    "\n",
    "Lesen Sie die Datei \"tweets.csv\" aus dem Ordner \"data\" ein."
   ],
   "metadata": {
    "collapsed": false
   }
  },
  {
   "cell_type": "code",
   "execution_count": null,
   "outputs": [],
   "source": [
    "# Lösung Aufgabe 4"
   ],
   "metadata": {
    "collapsed": false
   }
  },
  {
   "cell_type": "markdown",
   "source": [
    "# Aufgabe 5\n",
    "- Zerlegen Sie die eingelesene Tabelle in eine Liste von Zeilen.\n",
    "- Geben Sie die erste Zeile aus.\n"
   ],
   "metadata": {
    "collapsed": false
   }
  },
  {
   "cell_type": "markdown",
   "source": [
    "# Infos zu Aufgabe 5\n",
    "Sie können statt ein Zeichen direkt als Trenner anzugeben auch den utf-8 Code des jeweiligen Zeichens verwenden.\n",
    "Sinnvoll ist das z.B., wenn zwischen Zeilenumbrüchen und anderen Whitespaces unterschieden werden soll.\n",
    "Verwendung:\n",
    "mein_utf-8_code = chr(10)"
   ],
   "metadata": {
    "collapsed": false
   }
  },
  {
   "cell_type": "code",
   "execution_count": null,
   "outputs": [],
   "source": [
    "# Lösung Aufgabe 5"
   ],
   "metadata": {
    "collapsed": false
   }
  },
  {
   "cell_type": "markdown",
   "source": [
    "# Block 2: Reguläre Ausdrücke"
   ],
   "metadata": {
    "collapsed": false
   }
  },
  {
   "cell_type": "markdown",
   "source": [
    "# Aufgabe 6\n",
    "## Aufgabe 6a\n",
    "Lesen sie die Datei \"Cats\" in einen String ein\n",
    "Importieren Sie das Modul re\n",
    "\n",
    "## Aufgabe 6b\n",
    "Führen Sie eine Suche nach dem Wort \"cat\" durch"
   ],
   "metadata": {
    "collapsed": false
   }
  },
  {
   "cell_type": "markdown",
   "source": [
    "# Infos zu Aufgabe 6\n",
    "Alle Vorkommen eines Elements können mit re.findall gefunden werden."
   ],
   "metadata": {
    "collapsed": false
   }
  },
  {
   "cell_type": "code",
   "execution_count": null,
   "outputs": [],
   "source": [
    "# Lösung Aufgaben 6a und 6b"
   ],
   "metadata": {
    "collapsed": false
   }
  },
  {
   "cell_type": "markdown",
   "source": [
    "# Aufgabe 6 c\n",
    "Es haben sich mehrere Schreibfehler eingeschlichen.\n",
    "Schreiben Sie einen oder mehrere Ausdrücke, um nach folgenden Elementen zu suchen.\n",
    "cat\n",
    "cats\n",
    "caaaaat\n",
    "cct"
   ],
   "metadata": {
    "collapsed": false
   }
  },
  {
   "cell_type": "code",
   "execution_count": null,
   "outputs": [],
   "source": [
    "# Lösung Aufgabe 6c"
   ],
   "metadata": {
    "collapsed": false
   }
  },
  {
   "cell_type": "markdown",
   "source": [
    "# Block 3 Praxisbeispiel\n",
    "Überprüfen Sie folgende Hypothese an Hand des Textes \"bpb\" im Ordner \"Daten\":\n",
    "Je häufiger ein Wort ist desto kürzer ist es.\n",
    "\n"
   ],
   "metadata": {
    "collapsed": false
   }
  },
  {
   "cell_type": "code",
   "execution_count": null,
   "outputs": [],
   "source": [
    "# Code zu Block 3"
   ],
   "metadata": {
    "collapsed": false
   }
  },
  {
   "cell_type": "markdown",
   "source": [],
   "metadata": {
    "collapsed": false
   }
  }
 ],
 "metadata": {
  "kernelspec": {
   "display_name": "Python 3",
   "language": "python",
   "name": "python3"
  },
  "language_info": {
   "codemirror_mode": {
    "name": "ipython",
    "version": 2
   },
   "file_extension": ".py",
   "mimetype": "text/x-python",
   "name": "python",
   "nbconvert_exporter": "python",
   "pygments_lexer": "ipython2",
   "version": "2.7.6"
  }
 },
 "nbformat": 4,
 "nbformat_minor": 0
}
