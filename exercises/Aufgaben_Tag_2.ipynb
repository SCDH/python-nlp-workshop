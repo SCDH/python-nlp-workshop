{
 "cells": [
  {
   "cell_type": "markdown",
   "id": "825705e4-4923-4d18-934d-e095dbfb318a",
   "metadata": {},
   "source": [
    "# Programmieren für Geisteswissenschaftler - Workshop II\n",
    "# Tag 2\n",
    "\n",
    "## Natural Language Processing mit Spacy\n",
    "\n",
    "Dieses Notebook enthält Aufgaben zum essentiellen Umgang mit SpaCy, wobei einige Grundlagen aus Python zur Anwendung kommen.\n",
    "\n",
    "Lernziele:  \n",
    "* Was brauche ich, um SpaCy zu starten?\n",
    "* Wie nutze ich ein Language Model?\n",
    "* Was steckt in dem \"Doc\"-Objekt?\n",
    "* Wie arbeite ich mit dem \"Doc\"-Objekt?\n",
    "* Was sind POS Tags? Was ist ein Dependency Tree?\n",
    "* Wie kann ich Satzstrukturen visualisieren?\n",
    "* Wie kann man NER einsetzen? \n",
    "* Wie kann man strukturierte Daten speichern?\n",
    "* Was ist Entity Linking?\n",
    "\n",
    "Besuchen Sie https://spacy.io/ und machen Sie sich mit der Website vertraut.  \n",
    "Schauen Sie sich vor allem https://spacy.io/usage/linguistic-features an, um zu verstehen, was die grundlegenden linguistischen Fähigkeiten von SpaCy sind.  "
   ]
  },
  {
   "cell_type": "markdown",
   "id": "05c7fed8-039b-409e-b3b4-b0c53581a63c",
   "metadata": {},
   "source": [
    "### Aufgabe 1\n",
    "\n",
    "Installieren Sie, sofern noch nicht geschehen, SpaCy in Ihrer Notebook Umgebung.  "
   ]
  },
  {
   "cell_type": "code",
   "execution_count": null,
   "id": "2793436c-ca66-4f12-9464-5e136ac3fd09",
   "metadata": {
    "tags": []
   },
   "outputs": [],
   "source": []
  },
  {
   "cell_type": "markdown",
   "id": "2ade3f4a-3fb3-4abf-add7-729249de9b0a",
   "metadata": {},
   "source": [
    "### Aufgabe 2\n",
    "\n",
    "Laden Sie nun ein passendes SpaCy Language Model herunter.  \n",
    "Für unsere Zwecke eignet sich das Modell \"de_core_news_md\".  \n",
    "Sie finden alle Models unter https://spacy.io/models/de\n",
    "\n",
    "Beachten Sie, dass Sie auch hier wieder ein `!` voranstellen müssen, da es sich um einen Terminalbefehl handelt.  \n",
    "\n",
    "Hinweis: Denken Sie daran, dass Sie Terminalbefehle nach dem einmaligen Durchlaufen wieder ausklammern, um die Laufzeit des Notebooks nicht unnötig in die Länge zu ziehen."
   ]
  },
  {
   "cell_type": "code",
   "execution_count": null,
   "id": "e42119c2-9750-4d07-ba56-51a1cf43ac91",
   "metadata": {
    "tags": []
   },
   "outputs": [],
   "source": []
  },
  {
   "cell_type": "markdown",
   "id": "78e40dd9-6401-444b-bafb-1a49559d4593",
   "metadata": {},
   "source": [
    "### Aufgabe 3\n",
    "\n",
    "Importieren Sie nun Spacy in Ihr Notebook, um es direkt nutzen zu können.  "
   ]
  },
  {
   "cell_type": "code",
   "execution_count": null,
   "id": "4ad7d450-2dac-4d13-b3bd-af3aea29f1f3",
   "metadata": {
    "tags": []
   },
   "outputs": [],
   "source": []
  },
  {
   "cell_type": "markdown",
   "id": "036bcd33-0741-45fb-b8d2-ef60bf6d8f32",
   "metadata": {},
   "source": [
    "### Aufgabe 4\n",
    "\n",
    "Laden Sie nun das Modell, indem Sie `spacy.load()` verwenden.  \n",
    "Als Argument übergeben Sie den spezifischen Namen des Modells, in unserem Fall `de_core_news_md`.  \n",
    "Speichern Sie dies in der Variablen `nlp`.\n",
    "\n",
    "Hinweis: Sie können den Namen frei wählen, jedoch hat sich `nlp` als Konvention herausgebildet."
   ]
  },
  {
   "cell_type": "code",
   "execution_count": null,
   "id": "4e201fe1-960a-4e87-94a4-71ebb90a7cd0",
   "metadata": {
    "tags": []
   },
   "outputs": [],
   "source": []
  },
  {
   "cell_type": "markdown",
   "id": "61e4c432-a013-4fcd-b8c1-7de32749ddec",
   "metadata": {},
   "source": [
    "### Aufgabe 5\n",
    "\n",
    "Wir werden nun, im Gegensatz zum den ersten Aufgaben, SpaCy verwenden, um unsere Sätze zu bearbeite und analysieren.\n",
    "\n",
    "Verwenden Sie bitte für die folgenden Aufgaben den Text in der Variable `text`.  \n",
    "Er ist ein Zitat aus unserem Artikel \"Digitale Tools können Menschen eine Stimme geben, die politisch wenig gehört werden.\"\n",
    " \n",
    "Übergeben Sie die Variable `text` der Funktion `nlp()` als Parameter, welche Ihnen von SpaCy zur Verfügung gestellt wird.   \n",
    "Speichern Sie dies in einer neuen Variablen namens `doc` und geben Sie diese Variable aus.   "
   ]
  },
  {
   "cell_type": "code",
   "execution_count": null,
   "id": "b2aa14b2-2da9-4e4e-8efa-60e3257c88d3",
   "metadata": {
    "tags": []
   },
   "outputs": [],
   "source": []
  },
  {
   "cell_type": "markdown",
   "id": "2210e454-4f51-4bd7-844f-b1eb05ce8d80",
   "metadata": {
    "tags": []
   },
   "source": [
    "### Aufgabe 6\n",
    "\n",
    "Schreiben Sie eine Schleife, bei der sie über alle Elemente in `doc` iterieren.  \n",
    "Geben Sie für jedes Element die Attribute `text`, `lemma_`, `pos_` und `tag_` aus.  \n",
    "Beachten Sie die Unterstriche bei einigen Attributen!\n",
    "\n",
    "Optional: Die Unterstriche markieren menschenlesbare Werte in den Attributen. Sie können testweise die Unterstriche entfernen, um zu sehen, mit welchen Werten SpaCy intern arbeitet.Die Unterstriche markieren menschenlesbare Werte in den Attributen. Sie können testweise die Unterstriche entfernen, um zu sehen, mit welchen Werten SpaCy intern arbeitet."
   ]
  },
  {
   "cell_type": "code",
   "execution_count": null,
   "id": "8e3255f0-415e-4a27-b57e-9fd55440ea88",
   "metadata": {
    "tags": []
   },
   "outputs": [],
   "source": []
  },
  {
   "cell_type": "markdown",
   "id": "f95c8a57-eff8-4fb1-953f-2d0f6f3ccf1b",
   "metadata": {},
   "source": [
    "### Aufgabe 7\n",
    "\n",
    "Wir werden nun versuchen, die Verben aus dem Text herauszufiltern.  \n",
    "\n",
    "Schreiben Sie dazu eine Schleife, bei der Sie erneut über alle Elemente in `doc` iterieren.  \n",
    "Prüfen Sie in der Schleife dann mittels einer Bedingung, ob sich im Attribut `pos_` der Wert `VERB` befindet.  \n",
    "Falls dem so ist, geben Sie das Element aus, indem Sie das Attribut `lemma_` nutzen.  \n",
    "\n",
    "Optional:\n",
    "Ändern Sie den Code so, dass Sie die Verben nicht ausgeben, sondern in eine Liste speichern.  \n",
    "Geben Sie anschließend die Liste aus.\n",
    "\n",
    "Hinweis: Sie können sich aussuchen, ob Sie die Lemmata in einer Liste speichern, oder die gesamten Token-Objekte.  \n",
    "Falls Sie sich für Letzteres entscheiden: Wie können Sie dann alle Lemmata wieder ausgeben?"
   ]
  },
  {
   "cell_type": "code",
   "execution_count": null,
   "id": "953dc3a5-7e36-48a0-a87b-d705de4abb2f",
   "metadata": {
    "tags": []
   },
   "outputs": [],
   "source": []
  },
  {
   "cell_type": "markdown",
   "id": "dfd76407-074d-4998-9e95-a505bbf8efb5",
   "metadata": {
    "tags": []
   },
   "source": [
    "### Aufgabe 8\n",
    "\n",
    "Geben Sie nun alle Sätze aus dem Dokument aus, indem Sie über alle Sätze iterieren.  \n",
    "\n",
    "Ändern Sie anschließend den Text um, indem Sie die Satzzeichen entfernen.  \n",
    "Kann SpaCy weiterhin die Sätze erkennen?  \n",
    "\n",
    "Hinweis: Jupyter Notebooks werden nicht zwingend wie Python Scripte benutzt. Während ein Python Script immer von oben nach unten arbeitet, kann man bei Notebooks die Code-Zellen einzeln ausführen. Das führt für Anfänger oft zu verwirrenden Zuständen. Ein Indiz für die Ausführung sind die kleinen Zahlren links oben neben der Zelle. Sollten Sie einmal nicht weiterwissen hilft auch: \"Run\" -> \"Restart Kernel and Run all Cells\""
   ]
  },
  {
   "cell_type": "code",
   "execution_count": null,
   "id": "caa054fc-c8b7-428e-81ef-3d6c330143d6",
   "metadata": {
    "tags": []
   },
   "outputs": [],
   "source": []
  },
  {
   "cell_type": "markdown",
   "id": "845250f8-84e8-40fb-9e04-2e3572698e52",
   "metadata": {},
   "source": [
    "### Aufgabe 9\n",
    "\n",
    "In SpaCy sind POS-Tags (Part-of-Speech Tags) Annotationsmarkierungen, die jedem Wort in einem Text die entsprechende Wortart (z.B. Nomen, Verb, Adjektiv) zuweisen. Diese Tags helfen dabei, die grammatische Struktur und Funktion der Wörter im Text zu analysieren und zu verstehen. Jede Sprache hat andere POS mit anderen Bezeichnungen.\n",
    "\n",
    "Mehr Infos zu POS-Tags finden Sie unter: https://universaldependencies.org/u/pos/  \n",
    "\n",
    "Lassen Sie sich mit SpaCy ein Tag mittels der Methode `explain()` erklären. "
   ]
  },
  {
   "cell_type": "code",
   "execution_count": null,
   "id": "287d33b4-4b24-4a7d-a7fb-1bbeb1a42684",
   "metadata": {
    "tags": []
   },
   "outputs": [],
   "source": []
  },
  {
   "cell_type": "markdown",
   "id": "a89a77ef-1015-455e-80f4-12aea5ac554d",
   "metadata": {},
   "source": [
    "### Aufgabe 10  \n",
    "\n",
    "SpaCys `Doc`-Objekt ist sehr elaboriert. Sie finden unter dem Attribut `sents` keine Liste von Sätzen, sondern einen sog. Generator. Dieser liefert erst auf Anfrage Daten zurück. Er \"generiert\" sie. Schauen Sie in das Infomaterial und versuchen Sie zu verstehen, wie Sie den ersten Satz unseres Textes zurückbekommen. Speichern Sie den Satz in einer Variablen.\n",
    "\n",
    "Hinweis: Sie haben dann keinen Satz, also keinen String, gespeichert, sondern eine Datenstruktur.\n",
    "\n",
    "Wir wollen nun bestimmte Informationen zu bestimmten Token des Satzes sammeln.  \n",
    "Dazu erstellen wir uns eine leere Liste, in der wir diese Daten sammeln.  \n",
    "\n",
    "Iterieren Sie nun mit einer for-Schleife über die Elemente des Satzes und fügen folgende Liste in Ihre Liste hinzu:  \n",
    "`[token, token.tag_, spacy.explain(token.tag_), token.dep_, spacy.explain(token.dep_)]`  \n",
    "Anschließend haben wir also eine Liste voller Listen.  \n",
    "\n",
    "Wie Sie sehen, wollen wir uns in dieser Liste auch immer die Tags und Dependencies von SpaCy erläutern lassen. "
   ]
  },
  {
   "cell_type": "code",
   "execution_count": null,
   "id": "2c16c73b-b104-42f9-a838-3f27679284a7",
   "metadata": {
    "tags": []
   },
   "outputs": [],
   "source": []
  },
  {
   "cell_type": "markdown",
   "id": "45d192fa-0da6-4f87-b17a-2105e88fb8d2",
   "metadata": {},
   "source": [
    "### Aufgabe 11 \n",
    "\n",
    "\n",
    "Da wir nun eine Liste von Listen haben, haben wir zugleich auch so etwas wie eine Tabelle.  \n",
    "(Jedes Element in der Liste ist eine Spalte und die Elemente dieser Liste sind die Einträge der jeweiligen Zeilen)\n",
    "\n",
    "Wir können daher wieder Pandas benutzen, um diese Daten zu strukturieren, filtern und zu speichern.  \n",
    "\n",
    "In diesem Fall wollen wir es dabei belassen, die Daten übersichtlicher zu präsentieren.\n",
    "\n",
    "Importieren Sie dazu in diesem Notebook Pandas mit `import pandas as pd`.  \n",
    "\n",
    "Rufen Sie dann die Funktion `DataFrame()` auf dem Objekt `pd` auf, übergeben Sie dieser Funktion ihre Liste mit Tokens und speichern Sie dies in einer Variablen.  \n",
    "Lassen Sie sich die Variable ausgeben.  \n",
    "\n",
    "Hinweis: Wenn Sie beim Ausgeben nicht die `print()` oder `pprint()` Funktionen nutzen, können Sie das verbesserte Rendering von Pandas in Jupyter einsetzen!  "
   ]
  },
  {
   "cell_type": "code",
   "execution_count": null,
   "id": "2c819fab-91a3-4efa-9c3c-df8b346b2f99",
   "metadata": {},
   "outputs": [],
   "source": []
  },
  {
   "cell_type": "markdown",
   "id": "1d958db1-d256-4af9-a334-08ebb646641b",
   "metadata": {},
   "source": [
    "### Aufgabe 12\n",
    "\n",
    "Um einen Überblick über die Satzstruktur zu erhalten, hilft es, sich den Dependency Tree graphisch anzeigen zu lassen.  \n",
    "Spacy besitzt einen Visualizer, der dies ermöglicht.  \n",
    "\n",
    "Importieren Sie das Modul `displacy` und nutzen Sie die Methode `render()` um den Tree anzeigen zu lassen.  \n",
    "Alle Infos dazu finden Sie auf: https://spacy.io/usage/visualizers#jupyter\n",
    "\n",
    "Optional:  \n",
    "Vergleichen Sie den Dependency Parser ihres SpaCy Sprachmodells mit dem von https://pub.cl.uzh.ch/demo/parzu/.  \n",
    "Was fällt Ihnen auf?  "
   ]
  },
  {
   "cell_type": "code",
   "execution_count": null,
   "id": "ad2d5ff2-27fc-4b80-92b7-770990431c8c",
   "metadata": {
    "tags": []
   },
   "outputs": [],
   "source": []
  },
  {
   "cell_type": "markdown",
   "id": "efc5c179-7d43-4c1c-b8af-1cfacf15be30",
   "metadata": {},
   "source": [
    "### Aufgabe 13\n",
    "\n",
    "Da wir uns nun der Entity Recognition widmen, brauchen wir einen längeren Text.  \n",
    "Laden Sie entweder aus ihrer CSV Datei aus dem letzten Notebook den Text \"Ideen zur Rolle von künstlicher Intelligenz im Klassenzimmer der Zukunft\" , sofern Sie den vollständigen Fließtext dort mitgespeichert haben.\n",
    "\n",
    "Alternativ können Sie auch noch einmal direkt die Datei einlesen, die sie unter `/data` finden.\n",
    "\n",
    "Wiederholen Sie auch alle Schritte, um aus dem Text mittels der `nlp()` Methode von SpaCy ein SpaCy `doc` zu erstellen.\n",
    "Lassen Sie sich dann mittels des Attributs `ents` von `doc` die verschienden Entities des Textes ausgeben, die SpaCy mit dem Modell gefunden hat.  "
   ]
  },
  {
   "cell_type": "code",
   "execution_count": null,
   "id": "72f7e350-9100-436e-9526-1732ad8c53a5",
   "metadata": {
    "tags": []
   },
   "outputs": [],
   "source": []
  },
  {
   "cell_type": "markdown",
   "id": "9e78d049-2d01-419c-b408-a73dd9c8a64a",
   "metadata": {},
   "source": [
    "### Aufgabe 14\n",
    "\n",
    "Nutzen Sie noch einmal den Renderer von SpaCy um sich entweder die Named Entities des gesamten Dokuments oder nur die aus dem Satz `sent` anzeigen zu lassen. Sie können dafür wieder die Methode `render()` verwenden, müssen jedoch dem Parameter `style` den String \"ent\" übergeben, um Entities anzuzeigen."
   ]
  },
  {
   "cell_type": "code",
   "execution_count": null,
   "id": "d0e29d16-db69-4a75-9210-28da5bcca9fd",
   "metadata": {
    "tags": []
   },
   "outputs": [],
   "source": []
  },
  {
   "cell_type": "markdown",
   "id": "f920fb0d-b8da-4702-a0b4-ef549fd17fa3",
   "metadata": {},
   "source": [
    "### Abschlussaufgabe\n",
    "\n",
    "In vielen Fällen ist es sinnvoll, die gefundenen Entities mit Normdaten zu verknüpfen.  \n",
    "Dazu werden die gefundenen Strings mit einer Knowledge Base, etwa [Wikidata](https://de.wikipedia.org/wiki/Wikidata), abgeglichen.  \n",
    "\n",
    "Wir nutzen in diesem Fall eine simplere Schnittstelle namens [Lobid](https://lobid.org/resources/api), um die Normdaten zu holen.  \n",
    "\n",
    "Im folgenden sehen Sie zwei Funktionen, die Sie nutzen können.  \n",
    "Die Funktionen rufen eine URL aus dem Netz auf. In dieser URL steckt ein String aus ihrer Entity-Liste, hier `query` genannt.  \n",
    "Unter Angabe dieser Query gibt Lobid die Treffer im JSON Format zurück.  \n",
    "\n",
    "A) Versuchen Sie, die Funktionen nachzuvollziehen und rufen Sie `show_lobid`  mit einer passenden Entity auf.\n",
    "B) Iterieren Sie über alle Named Entities und falls diese im Label ein `PER` stehen hat, rufen Sie `show_lobid` damit auf.\n",
    "C) Optional: Finden Sie heraus, wie sie den von Ihnen erstellten DataFrame filtern können, um an die Personennamen zu kommen.\n",
    "\n",
    "Rufen Sie Funktion `show_lobid()` mit einer passenden Query auf, etwa dem Namen einer Person oder eines Ortes aus ihrer Liste.\n",
    "\n",
    "Optional: Holen Sie diese Daten automatisch aus ihrer Liste aus Entities.  \n",
    "Optionaler: Verarbeiten Sie ALLE ihre Entities mittels einer Schleife und lassen Sie sich die JSON Ergebnisse anzeigen.  \n",
    "\n",
    "Hinweis: Sie machen in diesem Fall echte(!) Anfragen über das Internet an eine Schnittstelle. In der Regel sollten Sie es hierbei nicht übertreiben. Viele Schnittstellen haben Timeouts oder erwarten sogenannte Zugriffstokens, um sich vor zu vielen Anfragen zu schützen. "
   ]
  },
  {
   "cell_type": "code",
   "execution_count": null,
   "id": "abb181e3-3955-4da0-a23c-e32038ea82c0",
   "metadata": {
    "tags": []
   },
   "outputs": [],
   "source": [
    "# Diese Zelle wird NICHT bearbeitet\n",
    "import requests\n",
    "from IPython.display import JSON, display\n",
    "\n",
    "def get_lobid(query):\n",
    "    url = f'https://lobid.org/gnd/search?q={query}&format=json'\n",
    "    response = requests.get(url)\n",
    "    return response.json()\n",
    "\n",
    "def show_lobid(query):\n",
    "    data = get_lobid(query)\n",
    "    display(JSON(data))"
   ]
  },
  {
   "cell_type": "code",
   "execution_count": null,
   "id": "b1a7e087-6300-4be8-9a57-46dd54aba9f5",
   "metadata": {
    "tags": []
   },
   "outputs": [],
   "source": []
  }
 ],
 "metadata": {
  "kernelspec": {
   "display_name": "Python 3 (ipykernel)",
   "language": "python",
   "name": "python3"
  },
  "language_info": {
   "codemirror_mode": {
    "name": "ipython",
    "version": 3
   },
   "file_extension": ".py",
   "mimetype": "text/x-python",
   "name": "python",
   "nbconvert_exporter": "python",
   "pygments_lexer": "ipython3",
   "version": "3.10.8"
  }
 },
 "nbformat": 4,
 "nbformat_minor": 5
}
